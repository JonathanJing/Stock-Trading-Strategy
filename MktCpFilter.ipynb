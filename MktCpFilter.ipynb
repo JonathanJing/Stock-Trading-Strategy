{
 "cells": [
  {
   "cell_type": "code",
   "execution_count": 11,
   "metadata": {},
   "outputs": [],
   "source": [
    "import pandas as pd\n",
    "import numpy as np"
   ]
  },
  {
   "cell_type": "code",
   "execution_count": 3,
   "metadata": {},
   "outputs": [],
   "source": [
    "data = pd.read_csv(\"D:/Stock-Trading-Strategy/keystats_new.csv\")"
   ]
  },
  {
   "cell_type": "code",
   "execution_count": 6,
   "metadata": {},
   "outputs": [
    {
     "data": {
      "text/plain": [
       "Index(['calendardate', 'ticker', 'eps', 'netinc', 'opinc', 'ncfo',\n",
       "       'cashnequsd', 'de', 'ebitda', 'fcf', 'marketcap', 'netmargin', 'pb',\n",
       "       'pe', 'ps', 'workingcapital', 'ev', 'divyield', 'fcfps', 'revenue',\n",
       "       'invcap', 'ebit', 'equityusd', 'assets', 'roe', 'roa', 'roic'],\n",
       "      dtype='object')"
      ]
     },
     "execution_count": 6,
     "metadata": {},
     "output_type": "execute_result"
    }
   ],
   "source": [
    "data.columns"
   ]
  },
  {
   "cell_type": "code",
   "execution_count": 14,
   "metadata": {},
   "outputs": [
    {
     "data": {
      "text/plain": [
       "True     129654\n",
       "False      7955\n",
       "Name: marketcap, dtype: int64"
      ]
     },
     "execution_count": 14,
     "metadata": {},
     "output_type": "execute_result"
    }
   ],
   "source": [
    "is_onem =  data['marketcap']>=10000000\n",
    "is_onem.value_counts()"
   ]
  },
  {
   "cell_type": "code",
   "execution_count": 15,
   "metadata": {},
   "outputs": [
    {
     "name": "stdout",
     "output_type": "stream",
     "text": [
      "(129654, 27)\n"
     ]
    }
   ],
   "source": [
    "data_mktcp = data[is_onem]\n",
    "print(data_mktcp.shape)"
   ]
  }
 ],
 "metadata": {
  "kernelspec": {
   "display_name": "Python 3",
   "language": "python",
   "name": "python3"
  },
  "language_info": {
   "codemirror_mode": {
    "name": "ipython",
    "version": 3
   },
   "file_extension": ".py",
   "mimetype": "text/x-python",
   "name": "python",
   "nbconvert_exporter": "python",
   "pygments_lexer": "ipython3",
   "version": "3.8.5"
  }
 },
 "nbformat": 4,
 "nbformat_minor": 4
}
