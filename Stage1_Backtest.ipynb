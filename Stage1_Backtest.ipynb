{
 "cells": [
  {
   "cell_type": "code",
   "execution_count": 1,
   "metadata": {},
   "outputs": [],
   "source": [
    "#backtest \n",
    "import numpy as np\n",
    "import pandas as pd\n",
    "from sklearn.model_selection import train_test_split\n",
    "from sklearn.ensemble import RandomForestClassifier\n",
    "from sklearn.metrics import precision_score, mean_squared_error, explained_variance_score, r2_score\n",
    "import matplotlib.pyplot as plt"
   ]
  },
  {
   "cell_type": "code",
   "execution_count": 2,
   "metadata": {},
   "outputs": [],
   "source": [
    "def data_string_to_float(number_string):\n",
    "    \"\"\"\n",
    "    The result of our regex search is a number stored as a string, but we need a float.\n",
    "        - Some of these strings say things like '25M' instead of 25000000.\n",
    "        - Some have 'N/A' in them.\n",
    "        - Some are negative (have '-' in front of the numbers).\n",
    "        - As an artifact of our regex, some values which were meant to be zero are instead '>0'.\n",
    "    We must process all of these cases accordingly.\n",
    "    :param number_string: the string output of our regex, which needs to be converted to a float.\n",
    "    :return: a float representation of the string, taking into account minus sign, unit, etc.\n",
    "    \"\"\"\n",
    "    # Deal with zeroes and the sign\n",
    "    if (\"N/A\" in number_string) or (\"NaN\" in number_string):\n",
    "        return \"N/A\"\n",
    "    elif number_string == \">0\":\n",
    "        return 0\n",
    "    elif \"B\" in number_string:\n",
    "        return float(number_string.replace(\"B\", \"\")) * 1000000000\n",
    "    elif \"M\" in number_string:\n",
    "        return float(number_string.replace(\"M\", \"\")) * 1000000\n",
    "    elif \"K\" in number_string:\n",
    "        return float(number_string.replace(\"K\", \"\")) * 1000\n",
    "    else:\n",
    "        return float(number_string)"
   ]
  },
  {
   "cell_type": "code",
   "execution_count": 3,
   "metadata": {},
   "outputs": [],
   "source": [
    "def duplicate_error_check(df):\n",
    "    \"\"\"\n",
    "    A common symptom of failed parsing is when there are consecutive duplicate values. This function was used\n",
    "    to find the duplicates and tweak the regex. Any remaining duplicates are probably coincidences.\n",
    "    :param df: the dataframe to be checked\n",
    "    :return: Prints out a list of the rows containing duplicates, as well as the duplicated values.\n",
    "    \"\"\"\n",
    "    # Some columns often (correctly) have the same value as other columns. Remove these.\n",
    "    df.drop(\n",
    "        [\n",
    "            \"Unix\",\n",
    "            \"Price\",\n",
    "            \"stock_p_change\",\n",
    "            \"SP500\",\n",
    "            \"SP500_p_change\",\n",
    "            \"Float\",\n",
    "            \"200-Day Moving Average\",\n",
    "            \"Short Ratio\",\n",
    "            \"Operating Margin\",\n",
    "        ],\n",
    "        axis=1,\n",
    "        inplace=True,\n",
    "    )\n",
    "\n",
    "    for i in range(len(df)):\n",
    "        # Check if there are any duplicates.\n",
    "        if pd.Series(df.iloc[i] == df.iloc[i].shift()).any():\n",
    "            duplicates = set(\n",
    "                [x for x in list(df.iloc[i]) if list(df.iloc[i]).count(x) > 1]\n",
    "            )\n",
    "            # A duplicate value of zero is quite common. We want other duplicates.\n",
    "            if duplicates != {0}:\n",
    "                print(i, df.iloc[i], duplicates, sep=\"\\n\")"
   ]
  },
  {
   "cell_type": "code",
   "execution_count": 4,
   "metadata": {},
   "outputs": [],
   "source": [
    "def status_calc(stock, sp500, outperformance=10):\n",
    "    \"\"\"A simple function to classify whether a stock outperformed the S&P500\n",
    "    :param stock: stock price\n",
    "    :param sp500: S&P500 price\n",
    "    :param outperformance: stock is classified 1 if stock price > S&P500 price + outperformance\n",
    "    :return: true/false\n",
    "    \"\"\"\n",
    "    if outperformance < 0:\n",
    "        raise ValueError(\"outperformance must be positive\")\n",
    "    return stock - sp500 >= outperformance"
   ]
  },
  {
   "cell_type": "code",
   "execution_count": 18,
   "metadata": {},
   "outputs": [
    {
     "name": "stderr",
     "output_type": "stream",
     "text": [
      "<ipython-input-18-330fb1fcabdc>:28: DataConversionWarning: A column-vector y was passed when a 1d array was expected. Please change the shape of y to (n_samples,), for example using ravel().\n",
      "  clf.fit(X_train, y_train)\n"
     ]
    },
    {
     "name": "stdout",
     "output_type": "stream",
     "text": [
      "Classifier performance\n",
      " ====================\n",
      "Accuracy score:  0.98\n",
      "Precision score:  1.00\n",
      "\n",
      " Stock prediction performance report \n",
      " ========================================\n",
      "Total Trades: 2\n",
      "Average return for stock predictions:  17.6 %\n",
      "Average market return in the same period:  2.3% \n",
      "Compared to the index, our strategy earns  15.3 percentage points more\n"
     ]
    }
   ],
   "source": [
    "# Build the dataset, and drop any rows with missing values\n",
    "backtest_df = pd.read_csv(\"ketstats_to_train.csv\", index_col=\"calendardate\")\n",
    "backtest_df.dropna(axis=0, how=\"any\", inplace=True)\n",
    "\n",
    "features = backtest_df.columns[1:-4]\n",
    "#X = backtest_df[features].values\n",
    "X = pd.DataFrame(backtest_df[features])\n",
    "\n",
    "# The labels are generated by applying the status_calc to the dataframe.\n",
    "# '1' if a stock beats the S&P500 by more than x%, else '0'. Here x is the\n",
    "# outperformance parameter, which is set to 10 by default but can be redefined.\n",
    "y = pd.DataFrame(list(\n",
    "        status_calc(\n",
    "            backtest_df[\"stock_p_change\"], backtest_df[\"sp500_p_change\"], outperformance=10\n",
    "        )\n",
    "    ))\n",
    "\n",
    "# z is required for us to track returns\n",
    "z = np.array(backtest_df[[\"stock_p_change\", \"sp500_p_change\"]])\n",
    "\n",
    "# Generate the train set and test set by randomly splitting the dataset\n",
    "X_train, X_test, y_train, y_test, z_train, z_test = train_test_split(\n",
    "    X, y, z, test_size=0.1\n",
    ")\n",
    "\n",
    "# Instantiate a RandomForestClassifier with 100 trees, then fit it to the training data\n",
    "clf = RandomForestClassifier(n_estimators=100, random_state=0)\n",
    "clf.fit(X_train, y_train)\n",
    "\n",
    "# Generate the predictions, then print test set accuracy and precision\n",
    "y_pred = clf.predict(X_test)\n",
    "print(\"Classifier performance\\n\", \"=\" * 20)\n",
    "print(f\"Accuracy score: {clf.score(X_test, y_test): .2f}\")\n",
    "print(f\"Precision score: {precision_score(y_test, y_pred): .2f}\")\n",
    "\n",
    "# Because y_pred is an array of 1s and 0s, the number of positive predictions\n",
    "# is equal to the sum of the array\n",
    "num_positive_predictions = sum(y_pred)\n",
    "if num_positive_predictions < 0:\n",
    "    print(\"No stocks predicted!\")\n",
    "\n",
    "# Recall that z_test stores the change in stock price in column 0, and the\n",
    "# change in S&P500 price in column 1.\n",
    "# Whenever a stock is predicted to outperform (y_pred = 1), we 'buy' that stock\n",
    "# and simultaneously `buy` the index for comparison.\n",
    "stock_returns = 1 + z_test[y_pred, 0] / 100\n",
    "market_returns = 1 + z_test[y_pred, 1] / 100\n",
    "\n",
    "# Calculate the average growth for each stock we predicted 'buy'\n",
    "# and the corresponding index growth\n",
    "avg_predicted_stock_growth = sum(stock_returns) / num_positive_predictions\n",
    "index_growth = sum(market_returns) / num_positive_predictions\n",
    "percentage_stock_returns = 100 * (avg_predicted_stock_growth - 1)\n",
    "percentage_market_returns = 100 * (index_growth - 1)\n",
    "total_outperformance = percentage_stock_returns - percentage_market_returns\n",
    "\n",
    "print(\"\\n Stock prediction performance report \\n\", \"=\" * 40)\n",
    "print(f\"Total Trades:\", num_positive_predictions)\n",
    "print(f\"Average return for stock predictions: {percentage_stock_returns: .1f} %\")\n",
    "print(\n",
    "    f\"Average market return in the same period: {percentage_market_returns: .1f}% \"\n",
    ")\n",
    "print(\n",
    "    f\"Compared to the index, our strategy earns {total_outperformance: .1f} percentage points more\"\n",
    ")"
   ]
  },
  {
   "cell_type": "code",
   "execution_count": 12,
   "metadata": {},
   "outputs": [
    {
     "name": "stdout",
     "output_type": "stream",
     "text": [
      "Root Mean Squared Error: 0.13099387894109052\n"
     ]
    },
    {
     "data": {
      "image/png": "[encoded data removed]",
      "text/plain": [
       "<Figure size 432x288 with 1 Axes>"
      ]
     },
     "metadata": {
      "needs_background": "light"
     },
     "output_type": "display_data"
    }
   ],
   "source": [
    "#Feature Importance\n",
    "feature_importances = pd.Series(clf.feature_importances_, index=X.columns)\n",
    "feature_importances.sort_values(inplace=True)\n",
    "ax = feature_importances.plot.barh()\n",
    "ax.set(ylabel='Importance (Gini Coefficient)', title='Feature importances');\n",
    "ax.set_title('Feature Importance (MDI)')\n",
    "\n",
    "#RMSE\n",
    "print('Root Mean Squared Error:', \n",
    "      np.sqrt(mean_squared_error(y_test, y_pred)))"
   ]
  },
  {
   "cell_type": "code",
   "execution_count": 19,
   "metadata": {},
   "outputs": [],
   "source": [
    "# The percentage by which a stock has to beat the S&P500 to be considered a 'buy'\n",
    "OUTPERFORMANCE = 10\n",
    "\n",
    "def build_data_set():\n",
    "    \"\"\"\n",
    "    Reads the keystats.csv file and prepares it for scikit-learn\n",
    "    :return: X_train and y_train numpy arrays\n",
    "    \"\"\"\n",
    "    training_data = pd.read_csv(\"ketstats_to_train.csv\", index_col=\"calendardate\")\n",
    "    training_data.dropna(axis=0, how=\"any\", inplace=True)\n",
    "    features = training_data.columns[1:-4]\n",
    "\n",
    "    X_train = training_data[features].values\n",
    "    # Generate the labels: '1' if a stock beats the S&P500 by more than 10%, else '0'.\n",
    "    y_train = list(\n",
    "        status_calc(\n",
    "            training_data[\"stock_p_change\"],\n",
    "            training_data[\"sp500_p_change\"],\n",
    "            OUTPERFORMANCE,\n",
    "        )\n",
    "    )\n",
    "\n",
    "    return X_train, y_train\n",
    "\n",
    "def predict_stocks():\n",
    "    X_train, y_train = build_data_set()\n",
    "    # Remove the random_state parameter to generate actual predictions\n",
    "    clf = RandomForestClassifier(n_estimators=100, random_state=0)\n",
    "    clf.fit(X_train, y_train)\n",
    "\n",
    "    # Now we get the actual data from which we want to generate predictions.\n",
    "    data = pd.read_csv(\"forward_sample.csv\", index_col=\"calendardate\")\n",
    "    data.dropna(axis=0, how=\"any\", inplace=True)\n",
    "    features = data.columns[1:-4]\n",
    "    X_test = data[features].values\n",
    "    z = data[\"ticker\"].values\n",
    "\n",
    "    # Get the predicted tickers\n",
    "    y_pred = clf.predict(X_test)\n",
    "    if sum(y_pred) == 0:\n",
    "        print(\"No stocks predicted!\")\n",
    "    else:\n",
    "        invest_list = z[y_pred].tolist()\n",
    "        print(\n",
    "            f\"{len(invest_list)} stocks predicted to outperform the S&P500 by more than {OUTPERFORMANCE}%:\"\n",
    "        )\n",
    "        print(\" \".join(invest_list))\n",
    "        return invest_list"
   ]
  },
  {
   "cell_type": "code",
   "execution_count": 20,
   "metadata": {},
   "outputs": [
    {
     "name": "stdout",
     "output_type": "stream",
     "text": [
      "7 stocks predicted to outperform the S&P500 by more than 10%:\n",
      "BE FMI STRP TWLO ZM SLP DKNG\n"
     ]
    },
    {
     "data": {
      "text/plain": [
       "['BE', 'FMI', 'STRP', 'TWLO', 'ZM', 'SLP', 'DKNG']"
      ]
     },
     "execution_count": 20,
     "metadata": {},
     "output_type": "execute_result"
    }
   ],
   "source": [
    "invest_list = predict_stocks()\n",
    "invest_list"
   ]
  },
  {
   "cell_type": "code",
   "execution_count": 21,
   "metadata": {},
   "outputs": [
    {
     "data": {
      "text/html": [
       "<div>\n",
       "<style scoped>\n",
       "    .dataframe tbody tr th:only-of-type {\n",
       "        vertical-align: middle;\n",
       "    }\n",
       "\n",
       "    .dataframe tbody tr th {\n",
       "        vertical-align: top;\n",
       "    }\n",
       "\n",
       "    .dataframe thead th {\n",
       "        text-align: right;\n",
       "    }\n",
       "</style>\n",
       "<table border=\"1\" class=\"dataframe\">\n",
       "  <thead>\n",
       "    <tr style=\"text-align: right;\">\n",
       "      <th></th>\n",
       "      <th>ticker</th>\n",
       "      <th>name</th>\n",
       "      <th>category</th>\n",
       "      <th>sicindustry</th>\n",
       "      <th>scalemarketcap</th>\n",
       "      <th>scalerevenue</th>\n",
       "      <th>location</th>\n",
       "    </tr>\n",
       "  </thead>\n",
       "  <tbody>\n",
       "    <tr>\n",
       "      <th>1530</th>\n",
       "      <td>BE</td>\n",
       "      <td>Bloom Energy Corp</td>\n",
       "      <td>Domestic Common Stock</td>\n",
       "      <td>Electrical Industrial Apparatus</td>\n",
       "      <td>4 - Mid</td>\n",
       "      <td>3 - Small</td>\n",
       "      <td>California; U.S.A</td>\n",
       "    </tr>\n",
       "    <tr>\n",
       "      <th>3887</th>\n",
       "      <td>DKNG</td>\n",
       "      <td>DraftKings Inc</td>\n",
       "      <td>Domestic Common Stock Primary Class</td>\n",
       "      <td>Services-Miscellaneous Amusement &amp; Recreation</td>\n",
       "      <td>5 - Large</td>\n",
       "      <td>2 - Micro</td>\n",
       "      <td>Massachusetts; U.S.A</td>\n",
       "    </tr>\n",
       "    <tr>\n",
       "      <th>5161</th>\n",
       "      <td>FMI</td>\n",
       "      <td>Foundation Medicine Inc</td>\n",
       "      <td>Domestic Common Stock</td>\n",
       "      <td>Services-Medical Laboratories</td>\n",
       "      <td>4 - Mid</td>\n",
       "      <td>2 - Micro</td>\n",
       "      <td>Massachusetts; U.S.A</td>\n",
       "    </tr>\n",
       "  </tbody>\n",
       "</table>\n",
       "</div>"
      ],
      "text/plain": [
       "     ticker                     name                             category  \\\n",
       "1530     BE        Bloom Energy Corp                Domestic Common Stock   \n",
       "3887   DKNG           DraftKings Inc  Domestic Common Stock Primary Class   \n",
       "5161    FMI  Foundation Medicine Inc                Domestic Common Stock   \n",
       "\n",
       "                                        sicindustry scalemarketcap  \\\n",
       "1530                Electrical Industrial Apparatus        4 - Mid   \n",
       "3887  Services-Miscellaneous Amusement & Recreation      5 - Large   \n",
       "5161                  Services-Medical Laboratories        4 - Mid   \n",
       "\n",
       "     scalerevenue              location  \n",
       "1530    3 - Small     California; U.S.A  \n",
       "3887    2 - Micro  Massachusetts; U.S.A  \n",
       "5161    2 - Micro  Massachusetts; U.S.A  "
      ]
     },
     "execution_count": 21,
     "metadata": {},
     "output_type": "execute_result"
    }
   ],
   "source": [
    "metadata = pd.read_csv(\"Tickers and Metadata.csv\")\n",
    "invest_list_metadata = metadata[metadata.ticker.isin(invest_list)]\n",
    "invest_list_metadata[[\"ticker\",\"name\",\"category\",\n",
    "                      \"sicindustry\",\"scalemarketcap\",\n",
    "                      \"scalerevenue\",\"location\"]]"
   ]
  },
  {
   "cell_type": "code",
   "execution_count": null,
   "metadata": {},
   "outputs": [],
   "source": []
  }
 ],
 "metadata": {
  "kernelspec": {
   "display_name": "Python 3",
   "language": "python",
   "name": "python3"
  },
  "language_info": {
   "codemirror_mode": {
    "name": "ipython",
    "version": 3
   },
   "file_extension": ".py",
   "mimetype": "text/x-python",
   "name": "python",
   "nbconvert_exporter": "python",
   "pygments_lexer": "ipython3",
   "version": "3.8.5"
  }
 },
 "nbformat": 4,
 "nbformat_minor": 4
}
