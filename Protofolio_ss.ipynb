{
 "cells": [
  {
   "cell_type": "code",
   "execution_count": 10,
   "metadata": {},
   "outputs": [],
   "source": [
    "import numpy as np\n",
    "import matplotlib.pyplot as plt\n",
    "import pandas as pd\n",
    "import datetime\n",
    "from yahoofinancials import YahooFinancials"
   ]
  },
  {
   "cell_type": "code",
   "execution_count": 58,
   "metadata": {},
   "outputs": [],
   "source": [
    "# Select stocks: Alibaba, Google,Netflix, Tesla, SP500, weekly,5 years\n",
    "assets = ['BABA','AAPL', 'TSLA','NFLX','^GSPC',]\n",
    "yahoo_financials = YahooFinancials(assets)\n",
    "\n",
    "data = yahoo_financials.get_historical_price_data(start_date = '2015-01-01',\n",
    "                                                  end_date = '2020-11-01',\n",
    "                                                  time_interval = 'weekly')\n"
   ]
  },
  {
   "cell_type": "markdown",
   "metadata": {},
   "source": [
    "### Data Preperation: 4 stocks, weekly return, log return, then make as portoflio"
   ]
  },
  {
   "cell_type": "code",
   "execution_count": 59,
   "metadata": {},
   "outputs": [
    {
     "data": {
      "text/html": [
       "<div>\n",
       "<style scoped>\n",
       "    .dataframe tbody tr th:only-of-type {\n",
       "        vertical-align: middle;\n",
       "    }\n",
       "\n",
       "    .dataframe tbody tr th {\n",
       "        vertical-align: top;\n",
       "    }\n",
       "\n",
       "    .dataframe thead th {\n",
       "        text-align: right;\n",
       "    }\n",
       "</style>\n",
       "<table border=\"1\" class=\"dataframe\">\n",
       "  <thead>\n",
       "    <tr style=\"text-align: right;\">\n",
       "      <th></th>\n",
       "      <th>BABA</th>\n",
       "      <th>AAPL</th>\n",
       "      <th>TSLA</th>\n",
       "      <th>NFLX</th>\n",
       "      <th>^GSPC</th>\n",
       "    </tr>\n",
       "    <tr>\n",
       "      <th>Date</th>\n",
       "      <th></th>\n",
       "      <th></th>\n",
       "      <th></th>\n",
       "      <th></th>\n",
       "      <th></th>\n",
       "    </tr>\n",
       "  </thead>\n",
       "  <tbody>\n",
       "    <tr>\n",
       "      <td>2015-01-01</td>\n",
       "      <td>102.13</td>\n",
       "      <td>24.58</td>\n",
       "      <td>42.19</td>\n",
       "      <td>46.74</td>\n",
       "      <td>2025.90</td>\n",
       "    </tr>\n",
       "    <tr>\n",
       "      <td>2015-01-08</td>\n",
       "      <td>99.58</td>\n",
       "      <td>25.05</td>\n",
       "      <td>38.54</td>\n",
       "      <td>46.32</td>\n",
       "      <td>2011.27</td>\n",
       "    </tr>\n",
       "    <tr>\n",
       "      <td>2015-01-15</td>\n",
       "      <td>103.29</td>\n",
       "      <td>24.99</td>\n",
       "      <td>39.31</td>\n",
       "      <td>58.47</td>\n",
       "      <td>2032.12</td>\n",
       "    </tr>\n",
       "    <tr>\n",
       "      <td>2015-01-22</td>\n",
       "      <td>98.45</td>\n",
       "      <td>26.31</td>\n",
       "      <td>39.87</td>\n",
       "      <td>63.21</td>\n",
       "      <td>2002.16</td>\n",
       "    </tr>\n",
       "    <tr>\n",
       "      <td>2015-01-29</td>\n",
       "      <td>90.00</td>\n",
       "      <td>27.28</td>\n",
       "      <td>43.71</td>\n",
       "      <td>64.10</td>\n",
       "      <td>2041.51</td>\n",
       "    </tr>\n",
       "    <tr>\n",
       "      <td>...</td>\n",
       "      <td>...</td>\n",
       "      <td>...</td>\n",
       "      <td>...</td>\n",
       "      <td>...</td>\n",
       "      <td>...</td>\n",
       "    </tr>\n",
       "    <tr>\n",
       "      <td>2020-10-01</td>\n",
       "      <td>296.50</td>\n",
       "      <td>115.08</td>\n",
       "      <td>425.30</td>\n",
       "      <td>534.66</td>\n",
       "      <td>3419.44</td>\n",
       "    </tr>\n",
       "    <tr>\n",
       "      <td>2020-10-08</td>\n",
       "      <td>301.04</td>\n",
       "      <td>121.19</td>\n",
       "      <td>461.30</td>\n",
       "      <td>541.45</td>\n",
       "      <td>3488.67</td>\n",
       "    </tr>\n",
       "    <tr>\n",
       "      <td>2020-10-15</td>\n",
       "      <td>307.97</td>\n",
       "      <td>116.87</td>\n",
       "      <td>422.64</td>\n",
       "      <td>489.05</td>\n",
       "      <td>3435.56</td>\n",
       "    </tr>\n",
       "    <tr>\n",
       "      <td>2020-10-22</td>\n",
       "      <td>307.94</td>\n",
       "      <td>111.20</td>\n",
       "      <td>406.02</td>\n",
       "      <td>486.24</td>\n",
       "      <td>3271.03</td>\n",
       "    </tr>\n",
       "    <tr>\n",
       "      <td>2020-10-29</td>\n",
       "      <td>304.69</td>\n",
       "      <td>108.86</td>\n",
       "      <td>388.04</td>\n",
       "      <td>475.74</td>\n",
       "      <td>3269.96</td>\n",
       "    </tr>\n",
       "  </tbody>\n",
       "</table>\n",
       "<p>305 rows × 5 columns</p>\n",
       "</div>"
      ],
      "text/plain": [
       "              BABA    AAPL    TSLA    NFLX    ^GSPC\n",
       "Date                                               \n",
       "2015-01-01  102.13   24.58   42.19   46.74  2025.90\n",
       "2015-01-08   99.58   25.05   38.54   46.32  2011.27\n",
       "2015-01-15  103.29   24.99   39.31   58.47  2032.12\n",
       "2015-01-22   98.45   26.31   39.87   63.21  2002.16\n",
       "2015-01-29   90.00   27.28   43.71   64.10  2041.51\n",
       "...            ...     ...     ...     ...      ...\n",
       "2020-10-01  296.50  115.08  425.30  534.66  3419.44\n",
       "2020-10-08  301.04  121.19  461.30  541.45  3488.67\n",
       "2020-10-15  307.97  116.87  422.64  489.05  3435.56\n",
       "2020-10-22  307.94  111.20  406.02  486.24  3271.03\n",
       "2020-10-29  304.69  108.86  388.04  475.74  3269.96\n",
       "\n",
       "[305 rows x 5 columns]"
      ]
     },
     "execution_count": 59,
     "metadata": {},
     "output_type": "execute_result"
    }
   ],
   "source": [
    "#data frame these stocks\n",
    "stocks = pd.DataFrame({\n",
    "      a: {x['formatted_date']: x['adjclose'] for x in data[a]['prices']} for a in assets\n",
    "})\n",
    "stocks.index.names = ['Date'] # note the data columns are index. cuz in the dictionary: key: value. keys are indexes. \n",
    "stocks.round(2)\n"
   ]
  },
  {
   "cell_type": "code",
   "execution_count": 61,
   "metadata": {},
   "outputs": [
    {
     "data": {
      "text/html": [
       "<div>\n",
       "<style scoped>\n",
       "    .dataframe tbody tr th:only-of-type {\n",
       "        vertical-align: middle;\n",
       "    }\n",
       "\n",
       "    .dataframe tbody tr th {\n",
       "        vertical-align: top;\n",
       "    }\n",
       "\n",
       "    .dataframe thead th {\n",
       "        text-align: right;\n",
       "    }\n",
       "</style>\n",
       "<table border=\"1\" class=\"dataframe\">\n",
       "  <thead>\n",
       "    <tr style=\"text-align: right;\">\n",
       "      <th></th>\n",
       "      <th>BABA</th>\n",
       "      <th>AAPL</th>\n",
       "      <th>TSLA</th>\n",
       "      <th>NFLX</th>\n",
       "      <th>^GSPC</th>\n",
       "    </tr>\n",
       "  </thead>\n",
       "  <tbody>\n",
       "    <tr>\n",
       "      <td>2015-01-01</td>\n",
       "      <td>NaN</td>\n",
       "      <td>NaN</td>\n",
       "      <td>NaN</td>\n",
       "      <td>NaN</td>\n",
       "      <td>NaN</td>\n",
       "    </tr>\n",
       "    <tr>\n",
       "      <td>2015-01-08</td>\n",
       "      <td>-0.024968</td>\n",
       "      <td>0.019026</td>\n",
       "      <td>-0.086561</td>\n",
       "      <td>-0.009046</td>\n",
       "      <td>-0.007221</td>\n",
       "    </tr>\n",
       "    <tr>\n",
       "      <td>2015-01-15</td>\n",
       "      <td>0.037256</td>\n",
       "      <td>-0.002277</td>\n",
       "      <td>0.020136</td>\n",
       "      <td>0.262275</td>\n",
       "      <td>0.010367</td>\n",
       "    </tr>\n",
       "    <tr>\n",
       "      <td>2015-01-22</td>\n",
       "      <td>-0.046858</td>\n",
       "      <td>0.052579</td>\n",
       "      <td>0.014244</td>\n",
       "      <td>0.081069</td>\n",
       "      <td>-0.014743</td>\n",
       "    </tr>\n",
       "    <tr>\n",
       "      <td>2015-01-29</td>\n",
       "      <td>-0.085830</td>\n",
       "      <td>0.036857</td>\n",
       "      <td>0.096203</td>\n",
       "      <td>0.014126</td>\n",
       "      <td>0.019654</td>\n",
       "    </tr>\n",
       "  </tbody>\n",
       "</table>\n",
       "</div>"
      ],
      "text/plain": [
       "                BABA      AAPL      TSLA      NFLX     ^GSPC\n",
       "2015-01-01       NaN       NaN       NaN       NaN       NaN\n",
       "2015-01-08 -0.024968  0.019026 -0.086561 -0.009046 -0.007221\n",
       "2015-01-15  0.037256 -0.002277  0.020136  0.262275  0.010367\n",
       "2015-01-22 -0.046858  0.052579  0.014244  0.081069 -0.014743\n",
       "2015-01-29 -0.085830  0.036857  0.096203  0.014126  0.019654"
      ]
     },
     "execution_count": 61,
     "metadata": {},
     "output_type": "execute_result"
    }
   ],
   "source": [
    "# weekly return\n",
    "stocks.pct_change(1).head()  #pct_change(periods)"
   ]
  },
  {
   "cell_type": "code",
   "execution_count": 50,
   "metadata": {},
   "outputs": [
    {
     "data": {
      "text/plain": [
       "BABA     0.004820\n",
       "AAPL     0.005756\n",
       "TSLA     0.021934\n",
       "NFLX     0.009439\n",
       "^GSPC    0.001942\n",
       "dtype: float64"
      ]
     },
     "execution_count": 50,
     "metadata": {},
     "output_type": "execute_result"
    }
   ],
   "source": [
    "# mean weekly return\n",
    "stock.pct_change(1).mean()"
   ]
  },
  {
   "cell_type": "code",
   "execution_count": 51,
   "metadata": {},
   "outputs": [
    {
     "data": {
      "text/html": [
       "<div>\n",
       "<style scoped>\n",
       "    .dataframe tbody tr th:only-of-type {\n",
       "        vertical-align: middle;\n",
       "    }\n",
       "\n",
       "    .dataframe tbody tr th {\n",
       "        vertical-align: top;\n",
       "    }\n",
       "\n",
       "    .dataframe thead th {\n",
       "        text-align: right;\n",
       "    }\n",
       "</style>\n",
       "<table border=\"1\" class=\"dataframe\">\n",
       "  <thead>\n",
       "    <tr style=\"text-align: right;\">\n",
       "      <th></th>\n",
       "      <th>BABA</th>\n",
       "      <th>AAPL</th>\n",
       "      <th>TSLA</th>\n",
       "      <th>NFLX</th>\n",
       "      <th>^GSPC</th>\n",
       "    </tr>\n",
       "    <tr>\n",
       "      <th>Date</th>\n",
       "      <th></th>\n",
       "      <th></th>\n",
       "      <th></th>\n",
       "      <th></th>\n",
       "      <th></th>\n",
       "    </tr>\n",
       "  </thead>\n",
       "  <tbody>\n",
       "    <tr>\n",
       "      <td>2015-01-01</td>\n",
       "      <td>NaN</td>\n",
       "      <td>NaN</td>\n",
       "      <td>NaN</td>\n",
       "      <td>NaN</td>\n",
       "      <td>NaN</td>\n",
       "    </tr>\n",
       "    <tr>\n",
       "      <td>2015-01-08</td>\n",
       "      <td>-0.025285</td>\n",
       "      <td>0.018847</td>\n",
       "      <td>-0.090538</td>\n",
       "      <td>-0.009088</td>\n",
       "      <td>-0.007248</td>\n",
       "    </tr>\n",
       "    <tr>\n",
       "      <td>2015-01-15</td>\n",
       "      <td>0.036579</td>\n",
       "      <td>-0.002280</td>\n",
       "      <td>0.019936</td>\n",
       "      <td>0.232916</td>\n",
       "      <td>0.010313</td>\n",
       "    </tr>\n",
       "    <tr>\n",
       "      <td>2015-01-22</td>\n",
       "      <td>-0.047992</td>\n",
       "      <td>0.051243</td>\n",
       "      <td>0.014144</td>\n",
       "      <td>0.077951</td>\n",
       "      <td>-0.014853</td>\n",
       "    </tr>\n",
       "    <tr>\n",
       "      <td>2015-01-29</td>\n",
       "      <td>-0.089739</td>\n",
       "      <td>0.036194</td>\n",
       "      <td>0.091852</td>\n",
       "      <td>0.014027</td>\n",
       "      <td>0.019463</td>\n",
       "    </tr>\n",
       "  </tbody>\n",
       "</table>\n",
       "</div>"
      ],
      "text/plain": [
       "                BABA      AAPL      TSLA      NFLX     ^GSPC\n",
       "Date                                                        \n",
       "2015-01-01       NaN       NaN       NaN       NaN       NaN\n",
       "2015-01-08 -0.025285  0.018847 -0.090538 -0.009088 -0.007248\n",
       "2015-01-15  0.036579 -0.002280  0.019936  0.232916  0.010313\n",
       "2015-01-22 -0.047992  0.051243  0.014144  0.077951 -0.014853\n",
       "2015-01-29 -0.089739  0.036194  0.091852  0.014027  0.019463"
      ]
     },
     "execution_count": 51,
     "metadata": {},
     "output_type": "execute_result"
    }
   ],
   "source": [
    "# calculate log return. why use log return:  reduces the variation of the time series making it easier to fit the model in question.\n",
    "log_return = np.log(stocks/stocks.shift(1))\n",
    "log_return.head()"
   ]
  },
  {
   "cell_type": "code",
   "execution_count": 52,
   "metadata": {},
   "outputs": [
    {
     "data": {
      "text/plain": [
       "BABA     0.003596\n",
       "AAPL     0.004895\n",
       "TSLA     0.007299\n",
       "NFLX     0.007632\n",
       "^GSPC    0.001575\n",
       "dtype: float64"
      ]
     },
     "execution_count": 52,
     "metadata": {},
     "output_type": "execute_result"
    }
   ],
   "source": [
    "log_return.mean()"
   ]
  },
  {
   "cell_type": "code",
   "execution_count": 80,
   "metadata": {},
   "outputs": [
    {
     "data": {
      "text/html": [
       "<div>\n",
       "<style scoped>\n",
       "    .dataframe tbody tr th:only-of-type {\n",
       "        vertical-align: middle;\n",
       "    }\n",
       "\n",
       "    .dataframe tbody tr th {\n",
       "        vertical-align: top;\n",
       "    }\n",
       "\n",
       "    .dataframe thead th {\n",
       "        text-align: right;\n",
       "    }\n",
       "</style>\n",
       "<table border=\"1\" class=\"dataframe\">\n",
       "  <thead>\n",
       "    <tr style=\"text-align: right;\">\n",
       "      <th></th>\n",
       "      <th>BABA</th>\n",
       "      <th>AAPL</th>\n",
       "      <th>TSLA</th>\n",
       "      <th>NFLX</th>\n",
       "    </tr>\n",
       "    <tr>\n",
       "      <th>Date</th>\n",
       "      <th></th>\n",
       "      <th></th>\n",
       "      <th></th>\n",
       "      <th></th>\n",
       "    </tr>\n",
       "  </thead>\n",
       "  <tbody>\n",
       "    <tr>\n",
       "      <td>2015-01-01</td>\n",
       "      <td>NaN</td>\n",
       "      <td>NaN</td>\n",
       "      <td>NaN</td>\n",
       "      <td>NaN</td>\n",
       "    </tr>\n",
       "    <tr>\n",
       "      <td>2015-01-08</td>\n",
       "      <td>-0.025285</td>\n",
       "      <td>0.018847</td>\n",
       "      <td>-0.090538</td>\n",
       "      <td>-0.009088</td>\n",
       "    </tr>\n",
       "    <tr>\n",
       "      <td>2015-01-15</td>\n",
       "      <td>0.036579</td>\n",
       "      <td>-0.002280</td>\n",
       "      <td>0.019936</td>\n",
       "      <td>0.232916</td>\n",
       "    </tr>\n",
       "    <tr>\n",
       "      <td>2015-01-22</td>\n",
       "      <td>-0.047992</td>\n",
       "      <td>0.051243</td>\n",
       "      <td>0.014144</td>\n",
       "      <td>0.077951</td>\n",
       "    </tr>\n",
       "    <tr>\n",
       "      <td>2015-01-29</td>\n",
       "      <td>-0.089739</td>\n",
       "      <td>0.036194</td>\n",
       "      <td>0.091852</td>\n",
       "      <td>0.014027</td>\n",
       "    </tr>\n",
       "  </tbody>\n",
       "</table>\n",
       "</div>"
      ],
      "text/plain": [
       "                BABA      AAPL      TSLA      NFLX\n",
       "Date                                              \n",
       "2015-01-01       NaN       NaN       NaN       NaN\n",
       "2015-01-08 -0.025285  0.018847 -0.090538 -0.009088\n",
       "2015-01-15  0.036579 -0.002280  0.019936  0.232916\n",
       "2015-01-22 -0.047992  0.051243  0.014144  0.077951\n",
       "2015-01-29 -0.089739  0.036194  0.091852  0.014027"
      ]
     },
     "execution_count": 80,
     "metadata": {},
     "output_type": "execute_result"
    }
   ],
   "source": [
    "#select 4 stocks for portofolio\n",
    "portfolio = log_return.iloc[:,0:4]\n",
    "portfolio.head()"
   ]
  },
  {
   "cell_type": "markdown",
   "metadata": {},
   "source": [
    "### Method 1: Random weights, select the best sharpe ratio to get the optimal weights"
   ]
  },
  {
   "cell_type": "code",
   "execution_count": 71,
   "metadata": {},
   "outputs": [
    {
     "name": "stdout",
     "output_type": "stream",
     "text": [
      "Index(['BABA', 'AAPL', 'TSLA', 'NFLX'], dtype='object')\n",
      "Random weights: [0.62274224 0.11433571 0.67698259 0.37966956]\n"
     ]
    }
   ],
   "source": [
    "#stocks we selected\n",
    "print(portfolio.columns)\n",
    "\n",
    "#randdomly sign weights\n",
    "weights = np.array(np.random.random(4))\n",
    "print('Random weights:',weights)"
   ]
  },
  {
   "cell_type": "code",
   "execution_count": 73,
   "metadata": {},
   "outputs": [
    {
     "name": "stdout",
     "output_type": "stream",
     "text": [
      "Rebalanced weights:  [0.34717722 0.06374187 0.37741609 0.21166482]\n"
     ]
    }
   ],
   "source": [
    "#rebalance weights, range as 0-1\n",
    "weights = weights/np.sum(weights)\n",
    "print('Rebalanced weights: ',weights)"
   ]
  },
  {
   "cell_type": "code",
   "execution_count": 108,
   "metadata": {},
   "outputs": [
    {
     "name": "stdout",
     "output_type": "stream",
     "text": [
      "Expected Return:  0.005931\n",
      "Expected Volatility:  0.070609\n",
      "Sharpe Ratio:  0.083992\n"
     ]
    }
   ],
   "source": [
    "# expected return\n",
    "exp_ret = np.sum((portfolio.mean()*weights))\n",
    "print(\"Expected Return: \",exp_ret.round(6))\n",
    "\n",
    "\n",
    "#expected volatility (std of expected return)\n",
    "exp_vol = np.sqrt(np.dot(weights.T,np.dot(portfolio.cov(), weights))) # matrix multiplication\n",
    "print('Expected Volatility: ', exp_vol.round(6))\n",
    "\n",
    "# sharpe ratio\n",
    "SR = exp_ret/exp_vol\n",
    "print('Sharpe Ratio: ',SR.round(6))"
   ]
  },
  {
   "cell_type": "code",
   "execution_count": 209,
   "metadata": {},
   "outputs": [],
   "source": [
    "# randomly try for 5000 times and select the best one \n",
    "num_times = 5000\n",
    "all_weights = np.zeros((num_times,len(portfolio.columns)))\n",
    "ret_arr = np.zeros(num_times)\n",
    "vol_arr = np.zeros(num_times)\n",
    "sharpe_arr = np.zeros(num_times)\n",
    "\n",
    "for i in range(num_times):\n",
    "    #weights\n",
    "    weights = np.array(np.random.random(4))\n",
    "    weights = weights/np.sum(weights) # scale 0-1\n",
    "    \n",
    "    #save weights \n",
    "    all_weights[i,:] = weights \n",
    "    \n",
    "    #expected return\n",
    "    ret_arr[i] = np.sum(portfolio.mean()*weights)\n",
    "    \n",
    "    #expected volatility\n",
    "    vol_arr[i] = np.sqrt(np.dot(weights.T,np.dot(portfolio.cov(), weights)))  \n",
    "    \n",
    "      # Sharpe Ratio \n",
    "    sharpe_arr[i] = ret_arr[i]/vol_arr[i]"
   ]
  },
  {
   "cell_type": "code",
   "execution_count": 212,
   "metadata": {},
   "outputs": [
    {
     "name": "stdout",
     "output_type": "stream",
     "text": [
      "The number  709  time gives the optimal sharpe ratio \n",
      "Optimal Sharpe Ratio:   0.16503664535024531\n",
      "The optimal expected return is :  0.005895202328271718\n",
      "The optimal expected volatility is :  0.03572056567049553\n",
      "The weights for the optimal choice:   [0.03659361 0.57936921 0.01042036 0.37361682]\n"
     ]
    }
   ],
   "source": [
    "# which t gets the optimal sharp ratio\n",
    "optimal_sr_num = sharpe_arr.argmax()\n",
    "print(\"The number \",optimal_sr_num, \" time gives the optimal sharpe ratio \")\n",
    "\n",
    "# the optimal sharpe ratio\n",
    "optimal_sr = sharpe_arr.max()\n",
    "print(\"Optimal Sharpe Ratio:  \", optimal_sr)\n",
    "\n",
    "#apply the optimal ratio number to get the optimal return & volatility\n",
    "optimal_sr_ret = ret_arr[optimal_sr_num]\n",
    "optimal_sr_vol = vol_arr[optimal_sr_num]\n",
    "print(\"The optimal expected return is : \", optimal_sr_ret)\n",
    "print(\"The optimal expected volatility is : \", optimal_sr_vol)\n",
    "\n",
    "#show the optimal weights, which gives the best sharpe ratio\n",
    "optimal_weights = all_weights[sharpe_arr.argmax(),:]\n",
    "print(\"The weights for the optimal choice:  \", optimal_weights)\n"
   ]
  },
  {
   "cell_type": "code",
   "execution_count": 213,
   "metadata": {},
   "outputs": [
    {
     "data": {
      "text/plain": [
       "0.005895202328271718"
      ]
     },
     "execution_count": 213,
     "metadata": {},
     "output_type": "execute_result"
    }
   ],
   "source": [
    "# apply the weights, just to check out the result\n",
    "portofolio_sr = np.sum(portfolio.mean()*optimal_weights)\n",
    "portofolio_sr"
   ]
  },
  {
   "cell_type": "code",
   "execution_count": 214,
   "metadata": {},
   "outputs": [
    {
     "name": "stdout",
     "output_type": "stream",
     "text": [
      "The number  1163  time gives the largest portfolio return\n",
      "Max expected Return:   0.00740783557205072\n",
      "Max expected Volatility:   0.14305362926461754\n",
      "The sharpe ratio to get the max return is:  0.09201112570754645\n"
     ]
    }
   ],
   "source": [
    "#which t gets the largest portfolio return\n",
    "max_ret_num = ret_arr.argmax()\n",
    "print(\"The number \",max_return_num, \" time gives the largest portfolio return\")\n",
    "\n",
    "#max expected return, max volatility\n",
    "max_ret = ret_arr.max()\n",
    "max_vol = vol_arr.max()\n",
    "print(\"Max expected Return:  \", ret_arr.max())\n",
    "print(\"Max expected Volatility:  \", vol_arr.max())\n",
    "\n",
    "# sharpe ratio to get max return? \n",
    "max_ret_sr = sharpe_arr[max_ret_num]\n",
    "print(\"The sharpe ratio to get the max return is: \", max_ret_sr)"
   ]
  },
  {
   "cell_type": "code",
   "execution_count": 219,
   "metadata": {},
   "outputs": [
    {
     "data": {
      "text/plain": [
       "<matplotlib.collections.PathCollection at 0x7fc80f8e1090>"
      ]
     },
     "execution_count": 219,
     "metadata": {},
     "output_type": "execute_result"
    },
    {
     "data": {
      "image/png": "[encoded data removed]",
      "text/plain": [
       "<Figure size 864x576 with 2 Axes>"
      ]
     },
     "metadata": {
      "needs_background": "light"
     },
     "output_type": "display_data"
    }
   ],
   "source": [
    "# plot the data\n",
    "plt.figure(figsize=(12,8))\n",
    "plt.scatter(vol_arr,ret_arr,c=sharpe_arr,cmap='plasma')\n",
    "plt.colorbar(label='Sharpe Ratio')\n",
    "plt.xlabel('Volatility')\n",
    "plt.ylabel('Return')\n",
    "\n",
    "\n",
    "# locate the green dot for optimal_sr_ret,optimal_sr_vol,(where the optimal sharpe ratio happens)\n",
    "plt.scatter(optimal_sr_ret, optimal_sr_vol, c='green', s=50, edgecolors='black')\n",
    "plt.scatter(max_ret,max_vol,c = 'red', s=50,edgecolors='black')\n"
   ]
  },
  {
   "cell_type": "code",
   "execution_count": 185,
   "metadata": {},
   "outputs": [
    {
     "data": {
      "text/html": [
       "<div>\n",
       "<style scoped>\n",
       "    .dataframe tbody tr th:only-of-type {\n",
       "        vertical-align: middle;\n",
       "    }\n",
       "\n",
       "    .dataframe tbody tr th {\n",
       "        vertical-align: top;\n",
       "    }\n",
       "\n",
       "    .dataframe thead th {\n",
       "        text-align: right;\n",
       "    }\n",
       "</style>\n",
       "<table border=\"1\" class=\"dataframe\">\n",
       "  <thead>\n",
       "    <tr style=\"text-align: right;\">\n",
       "      <th></th>\n",
       "      <th>BABA</th>\n",
       "      <th>AAPL</th>\n",
       "      <th>TSLA</th>\n",
       "      <th>NFLX</th>\n",
       "      <th>^GSPC</th>\n",
       "      <th>Portfolio</th>\n",
       "    </tr>\n",
       "  </thead>\n",
       "  <tbody>\n",
       "    <tr>\n",
       "      <td>Weekly Return</td>\n",
       "      <td>0.003596</td>\n",
       "      <td>0.004895</td>\n",
       "      <td>0.007299</td>\n",
       "      <td>0.007632</td>\n",
       "      <td>0.001575</td>\n",
       "      <td>0.007466</td>\n",
       "    </tr>\n",
       "  </tbody>\n",
       "</table>\n",
       "</div>"
      ],
      "text/plain": [
       "                   BABA      AAPL      TSLA      NFLX     ^GSPC  Portfolio\n",
       "Weekly Return  0.003596  0.004895  0.007299  0.007632  0.001575   0.007466"
      ]
     },
     "execution_count": 185,
     "metadata": {},
     "output_type": "execute_result"
    }
   ],
   "source": [
    "# weeklt return comparison\n",
    "result = pd.DataFrame([log_return.mean()],index=[\"Weekly Return\"]) #single stock's weekly return\n",
    "result['Portfolio'] = ret_arr.max()\n",
    "result"
   ]
  },
  {
   "cell_type": "code",
   "execution_count": 183,
   "metadata": {},
   "outputs": [
    {
     "data": {
      "text/plain": [
       "BABA     0.003596\n",
       "AAPL     0.004895\n",
       "TSLA     0.007299\n",
       "NFLX     0.007632\n",
       "^GSPC    0.001575\n",
       "dtype: float64"
      ]
     },
     "execution_count": 183,
     "metadata": {},
     "output_type": "execute_result"
    }
   ],
   "source": [
    "log_return.mean()"
   ]
  },
  {
   "cell_type": "code",
   "execution_count": 188,
   "metadata": {},
   "outputs": [
    {
     "name": "stdout",
     "output_type": "stream",
     "text": [
      "0.006125046755118088\n",
      "0.007466376118310759\n"
     ]
    }
   ],
   "source": [
    "print(max_sr_ret)\n",
    "print(ret_arr.max())"
   ]
  },
  {
   "cell_type": "code",
   "execution_count": null,
   "metadata": {},
   "outputs": [],
   "source": []
  }
 ],
 "metadata": {
  "kernelspec": {
   "display_name": "Python 3",
   "language": "python",
   "name": "python3"
  },
  "language_info": {
   "codemirror_mode": {
    "name": "ipython",
    "version": 3
   },
   "file_extension": ".py",
   "mimetype": "text/x-python",
   "name": "python",
   "nbconvert_exporter": "python",
   "pygments_lexer": "ipython3",
   "version": "3.7.4"
  }
 },
 "nbformat": 4,
 "nbformat_minor": 4
}
