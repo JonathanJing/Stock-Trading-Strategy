{
 "cells": [
  {
   "cell_type": "code",
   "execution_count": 152,
   "metadata": {},
   "outputs": [],
   "source": [
    "import pandas as pd\n",
    "from pandas_datareader import data as pdr\n",
    "from datetime import datetime"
   ]
  },
  {
   "cell_type": "code",
   "execution_count": 167,
   "metadata": {},
   "outputs": [],
   "source": [
    "df_raw = pd.read_csv(r\"SHARADAR_SF1.csv\",index_col=\"calendardate\")"
   ]
  },
  {
   "cell_type": "code",
   "execution_count": 168,
   "metadata": {},
   "outputs": [
    {
     "data": {
      "text/html": [
       "<div>\n",
       "<style scoped>\n",
       "    .dataframe tbody tr th:only-of-type {\n",
       "        vertical-align: middle;\n",
       "    }\n",
       "\n",
       "    .dataframe tbody tr th {\n",
       "        vertical-align: top;\n",
       "    }\n",
       "\n",
       "    .dataframe thead th {\n",
       "        text-align: right;\n",
       "    }\n",
       "</style>\n",
       "<table border=\"1\" class=\"dataframe\">\n",
       "  <thead>\n",
       "    <tr style=\"text-align: right;\">\n",
       "      <th></th>\n",
       "      <th>ticker</th>\n",
       "      <th>dimension</th>\n",
       "      <th>datekey</th>\n",
       "      <th>reportperiod</th>\n",
       "      <th>lastupdated</th>\n",
       "      <th>accoci</th>\n",
       "      <th>assets</th>\n",
       "      <th>assetsavg</th>\n",
       "      <th>assetsc</th>\n",
       "      <th>assetsnc</th>\n",
       "      <th>...</th>\n",
       "      <th>sharesbas</th>\n",
       "      <th>shareswa</th>\n",
       "      <th>shareswadil</th>\n",
       "      <th>sps</th>\n",
       "      <th>tangibles</th>\n",
       "      <th>taxassets</th>\n",
       "      <th>taxexp</th>\n",
       "      <th>taxliabilities</th>\n",
       "      <th>tbvps</th>\n",
       "      <th>workingcapital</th>\n",
       "    </tr>\n",
       "    <tr>\n",
       "      <th>calendardate</th>\n",
       "      <th></th>\n",
       "      <th></th>\n",
       "      <th></th>\n",
       "      <th></th>\n",
       "      <th></th>\n",
       "      <th></th>\n",
       "      <th></th>\n",
       "      <th></th>\n",
       "      <th></th>\n",
       "      <th></th>\n",
       "      <th></th>\n",
       "      <th></th>\n",
       "      <th></th>\n",
       "      <th></th>\n",
       "      <th></th>\n",
       "      <th></th>\n",
       "      <th></th>\n",
       "      <th></th>\n",
       "      <th></th>\n",
       "      <th></th>\n",
       "      <th></th>\n",
       "    </tr>\n",
       "  </thead>\n",
       "  <tbody>\n",
       "    <tr>\n",
       "      <th>3/31/2010</th>\n",
       "      <td>A</td>\n",
       "      <td>ARQ</td>\n",
       "      <td>6/7/2010</td>\n",
       "      <td>4/30/2010</td>\n",
       "      <td>9/1/2020</td>\n",
       "      <td>-239000000.0</td>\n",
       "      <td>7.767000e+09</td>\n",
       "      <td>NaN</td>\n",
       "      <td>5.712000e+09</td>\n",
       "      <td>2.055000e+09</td>\n",
       "      <td>...</td>\n",
       "      <td>348062907.0</td>\n",
       "      <td>348000000.0</td>\n",
       "      <td>354000000.0</td>\n",
       "      <td>3.652</td>\n",
       "      <td>6.997000e+09</td>\n",
       "      <td>0.0</td>\n",
       "      <td>31000000.0</td>\n",
       "      <td>0.0</td>\n",
       "      <td>20.106</td>\n",
       "      <td>3.003000e+09</td>\n",
       "    </tr>\n",
       "    <tr>\n",
       "      <th>6/30/2010</th>\n",
       "      <td>A</td>\n",
       "      <td>ARQ</td>\n",
       "      <td>9/7/2010</td>\n",
       "      <td>7/31/2010</td>\n",
       "      <td>9/1/2020</td>\n",
       "      <td>-225000000.0</td>\n",
       "      <td>9.100000e+09</td>\n",
       "      <td>NaN</td>\n",
       "      <td>5.735000e+09</td>\n",
       "      <td>3.365000e+09</td>\n",
       "      <td>...</td>\n",
       "      <td>346370351.0</td>\n",
       "      <td>347000000.0</td>\n",
       "      <td>352000000.0</td>\n",
       "      <td>3.988</td>\n",
       "      <td>7.188000e+09</td>\n",
       "      <td>0.0</td>\n",
       "      <td>22000000.0</td>\n",
       "      <td>0.0</td>\n",
       "      <td>20.715</td>\n",
       "      <td>2.818000e+09</td>\n",
       "    </tr>\n",
       "    <tr>\n",
       "      <th>9/30/2010</th>\n",
       "      <td>A</td>\n",
       "      <td>ARQ</td>\n",
       "      <td>12/20/2010</td>\n",
       "      <td>10/31/2010</td>\n",
       "      <td>9/1/2020</td>\n",
       "      <td>-88000000.0</td>\n",
       "      <td>9.696000e+09</td>\n",
       "      <td>NaN</td>\n",
       "      <td>6.169000e+09</td>\n",
       "      <td>3.527000e+09</td>\n",
       "      <td>...</td>\n",
       "      <td>347604202.0</td>\n",
       "      <td>344000000.0</td>\n",
       "      <td>356000000.0</td>\n",
       "      <td>4.581</td>\n",
       "      <td>7.746000e+09</td>\n",
       "      <td>0.0</td>\n",
       "      <td>-49000000.0</td>\n",
       "      <td>0.0</td>\n",
       "      <td>22.517</td>\n",
       "      <td>3.086000e+09</td>\n",
       "    </tr>\n",
       "    <tr>\n",
       "      <th>12/31/2010</th>\n",
       "      <td>A</td>\n",
       "      <td>ARQ</td>\n",
       "      <td>3/9/2011</td>\n",
       "      <td>1/31/2011</td>\n",
       "      <td>9/1/2020</td>\n",
       "      <td>-63000000.0</td>\n",
       "      <td>8.044000e+09</td>\n",
       "      <td>NaN</td>\n",
       "      <td>4.598000e+09</td>\n",
       "      <td>3.446000e+09</td>\n",
       "      <td>...</td>\n",
       "      <td>345122160.0</td>\n",
       "      <td>347000000.0</td>\n",
       "      <td>355000000.0</td>\n",
       "      <td>4.378</td>\n",
       "      <td>6.129000e+09</td>\n",
       "      <td>0.0</td>\n",
       "      <td>5000000.0</td>\n",
       "      <td>0.0</td>\n",
       "      <td>17.663</td>\n",
       "      <td>3.192000e+09</td>\n",
       "    </tr>\n",
       "    <tr>\n",
       "      <th>3/31/2011</th>\n",
       "      <td>A</td>\n",
       "      <td>ARQ</td>\n",
       "      <td>6/7/2011</td>\n",
       "      <td>4/30/2011</td>\n",
       "      <td>9/1/2020</td>\n",
       "      <td>278000000.0</td>\n",
       "      <td>8.649000e+09</td>\n",
       "      <td>NaN</td>\n",
       "      <td>5.096000e+09</td>\n",
       "      <td>3.553000e+09</td>\n",
       "      <td>...</td>\n",
       "      <td>348045143.0</td>\n",
       "      <td>347000000.0</td>\n",
       "      <td>355000000.0</td>\n",
       "      <td>4.833</td>\n",
       "      <td>6.601000e+09</td>\n",
       "      <td>0.0</td>\n",
       "      <td>60000000.0</td>\n",
       "      <td>0.0</td>\n",
       "      <td>19.023</td>\n",
       "      <td>3.504000e+09</td>\n",
       "    </tr>\n",
       "  </tbody>\n",
       "</table>\n",
       "<p>5 rows × 110 columns</p>\n",
       "</div>"
      ],
      "text/plain": [
       "             ticker dimension     datekey reportperiod lastupdated  \\\n",
       "calendardate                                                         \n",
       "3/31/2010         A       ARQ    6/7/2010    4/30/2010    9/1/2020   \n",
       "6/30/2010         A       ARQ    9/7/2010    7/31/2010    9/1/2020   \n",
       "9/30/2010         A       ARQ  12/20/2010   10/31/2010    9/1/2020   \n",
       "12/31/2010        A       ARQ    3/9/2011    1/31/2011    9/1/2020   \n",
       "3/31/2011         A       ARQ    6/7/2011    4/30/2011    9/1/2020   \n",
       "\n",
       "                   accoci        assets  assetsavg       assetsc  \\\n",
       "calendardate                                                       \n",
       "3/31/2010    -239000000.0  7.767000e+09        NaN  5.712000e+09   \n",
       "6/30/2010    -225000000.0  9.100000e+09        NaN  5.735000e+09   \n",
       "9/30/2010     -88000000.0  9.696000e+09        NaN  6.169000e+09   \n",
       "12/31/2010    -63000000.0  8.044000e+09        NaN  4.598000e+09   \n",
       "3/31/2011     278000000.0  8.649000e+09        NaN  5.096000e+09   \n",
       "\n",
       "                  assetsnc  ...    sharesbas     shareswa  shareswadil    sps  \\\n",
       "calendardate                ...                                                 \n",
       "3/31/2010     2.055000e+09  ...  348062907.0  348000000.0  354000000.0  3.652   \n",
       "6/30/2010     3.365000e+09  ...  346370351.0  347000000.0  352000000.0  3.988   \n",
       "9/30/2010     3.527000e+09  ...  347604202.0  344000000.0  356000000.0  4.581   \n",
       "12/31/2010    3.446000e+09  ...  345122160.0  347000000.0  355000000.0  4.378   \n",
       "3/31/2011     3.553000e+09  ...  348045143.0  347000000.0  355000000.0  4.833   \n",
       "\n",
       "                 tangibles  taxassets      taxexp  taxliabilities   tbvps  \\\n",
       "calendardate                                                                \n",
       "3/31/2010     6.997000e+09        0.0  31000000.0             0.0  20.106   \n",
       "6/30/2010     7.188000e+09        0.0  22000000.0             0.0  20.715   \n",
       "9/30/2010     7.746000e+09        0.0 -49000000.0             0.0  22.517   \n",
       "12/31/2010    6.129000e+09        0.0   5000000.0             0.0  17.663   \n",
       "3/31/2011     6.601000e+09        0.0  60000000.0             0.0  19.023   \n",
       "\n",
       "              workingcapital  \n",
       "calendardate                  \n",
       "3/31/2010       3.003000e+09  \n",
       "6/30/2010       2.818000e+09  \n",
       "9/30/2010       3.086000e+09  \n",
       "12/31/2010      3.192000e+09  \n",
       "3/31/2011       3.504000e+09  \n",
       "\n",
       "[5 rows x 110 columns]"
      ]
     },
     "execution_count": 168,
     "metadata": {},
     "output_type": "execute_result"
    }
   ],
   "source": [
    "is_ARQ = df_raw['dimension'] == 'ARQ'\n",
    "df_Quarter = df_raw[is_ARQ]\n",
    "df_Quarter.head()"
   ]
  },
  {
   "cell_type": "code",
   "execution_count": 169,
   "metadata": {},
   "outputs": [
    {
     "data": {
      "text/plain": [
       "(209342, 110)"
      ]
     },
     "execution_count": 169,
     "metadata": {},
     "output_type": "execute_result"
    }
   ],
   "source": [
    "df_Quarter.shape"
   ]
  },
  {
   "cell_type": "code",
   "execution_count": 170,
   "metadata": {},
   "outputs": [],
   "source": [
    "df_Quarter.to_csv('keystats.csv')"
   ]
  },
  {
   "cell_type": "code",
   "execution_count": 28,
   "metadata": {},
   "outputs": [],
   "source": [
    "START_DATE = \"2010-01-01\"\n",
    "END_DATE = \"2020-11-01\""
   ]
  },
  {
   "cell_type": "code",
   "execution_count": 29,
   "metadata": {},
   "outputs": [],
   "source": [
    "def build_sp500_dataset(start=START_DATE, end=END_DATE):\n",
    "    \"\"\"\n",
    "    Creates the dataset containing S&P500 prices\n",
    "    :returns: sp500_index.csv\n",
    "    \"\"\"\n",
    "    index_data = pdr.get_data_yahoo(\"SPY\", start=START_DATE, end=END_DATE)\n",
    "    index_data.to_csv(\"sp500_index.csv\")"
   ]
  },
  {
   "cell_type": "code",
   "execution_count": 30,
   "metadata": {},
   "outputs": [],
   "source": [
    "build_sp500_dataset()"
   ]
  },
  {
   "cell_type": "code",
   "execution_count": null,
   "metadata": {},
   "outputs": [],
   "source": [
    "ticker_list = df_Quarter.ticker.drop_duplicates().tolist()\n",
    "ticker_list"
   ]
  },
  {
   "cell_type": "code",
   "execution_count": 36,
   "metadata": {},
   "outputs": [],
   "source": [
    "def build_stock_dataset(start=START_DATE, end=END_DATE):\n",
    "    \"\"\"\n",
    "    Creates the dataset containing all stock prices\n",
    "    :returns: stock_prices.csv\n",
    "    \"\"\"\n",
    "    ticker_list = df_Quarter.ticker.drop_duplicates().tolist()\n",
    "\n",
    "    # Get all Adjusted Close prices for all the tickers in our list,\n",
    "    # between START_DATE and END_DATE\n",
    "    all_data = pdr.get_data_yahoo(ticker_list, start, end)\n",
    "    stock_data = all_data[\"Adj Close\"]\n",
    "\n",
    "    # Remove any columns that hold no data, and print their tickers.\n",
    "    stock_data.dropna(how=\"all\", axis=1, inplace=True)\n",
    "    missing_tickers = [\n",
    "        ticker for ticker in ticker_list if ticker.upper() not in stock_data.columns\n",
    "    ]\n",
    "    print(f\"{len(missing_tickers)} tickers are missing: \\n {missing_tickers} \")\n",
    "    # If there are only some missing datapoints, forward fill.\n",
    "    stock_data.ffill(inplace=True)\n",
    "    stock_data.to_csv(\"stock_prices.csv\")"
   ]
  },
  {
   "cell_type": "code",
   "execution_count": null,
   "metadata": {},
   "outputs": [],
   "source": [
    "build_stock_dataset()"
   ]
  },
  {
   "cell_type": "code",
   "execution_count": 180,
   "metadata": {},
   "outputs": [],
   "source": [
    "data_df = pd.read_csv(\"keystats.csv\", index_col=\"calendardate\")\n"
   ]
  },
  {
   "cell_type": "code",
   "execution_count": 105,
   "metadata": {},
   "outputs": [
    {
     "data": {
      "text/html": [
       "<div>\n",
       "<style scoped>\n",
       "    .dataframe tbody tr th:only-of-type {\n",
       "        vertical-align: middle;\n",
       "    }\n",
       "\n",
       "    .dataframe tbody tr th {\n",
       "        vertical-align: top;\n",
       "    }\n",
       "\n",
       "    .dataframe thead th {\n",
       "        text-align: right;\n",
       "    }\n",
       "</style>\n",
       "<table border=\"1\" class=\"dataframe\">\n",
       "  <thead>\n",
       "    <tr style=\"text-align: right;\">\n",
       "      <th></th>\n",
       "      <th>Unnamed: 0</th>\n",
       "      <th>ticker</th>\n",
       "      <th>dimension</th>\n",
       "      <th>datekey</th>\n",
       "      <th>reportperiod</th>\n",
       "      <th>lastupdated</th>\n",
       "      <th>accoci</th>\n",
       "      <th>assets</th>\n",
       "      <th>assetsc</th>\n",
       "      <th>assetsnc</th>\n",
       "      <th>...</th>\n",
       "      <th>sharesbas</th>\n",
       "      <th>shareswa</th>\n",
       "      <th>shareswadil</th>\n",
       "      <th>sps</th>\n",
       "      <th>tangibles</th>\n",
       "      <th>taxassets</th>\n",
       "      <th>taxexp</th>\n",
       "      <th>taxliabilities</th>\n",
       "      <th>tbvps</th>\n",
       "      <th>workingcapital</th>\n",
       "    </tr>\n",
       "    <tr>\n",
       "      <th>calendardate</th>\n",
       "      <th></th>\n",
       "      <th></th>\n",
       "      <th></th>\n",
       "      <th></th>\n",
       "      <th></th>\n",
       "      <th></th>\n",
       "      <th></th>\n",
       "      <th></th>\n",
       "      <th></th>\n",
       "      <th></th>\n",
       "      <th></th>\n",
       "      <th></th>\n",
       "      <th></th>\n",
       "      <th></th>\n",
       "      <th></th>\n",
       "      <th></th>\n",
       "      <th></th>\n",
       "      <th></th>\n",
       "      <th></th>\n",
       "      <th></th>\n",
       "      <th></th>\n",
       "    </tr>\n",
       "  </thead>\n",
       "  <tbody>\n",
       "    <tr>\n",
       "      <th>3/31/2010</th>\n",
       "      <td>0</td>\n",
       "      <td>A</td>\n",
       "      <td>ARQ</td>\n",
       "      <td>6/7/2010</td>\n",
       "      <td>4/30/2010</td>\n",
       "      <td>9/1/2020</td>\n",
       "      <td>-239000000.0</td>\n",
       "      <td>7.767000e+09</td>\n",
       "      <td>5.712000e+09</td>\n",
       "      <td>2.055000e+09</td>\n",
       "      <td>...</td>\n",
       "      <td>348062907.0</td>\n",
       "      <td>348000000.0</td>\n",
       "      <td>354000000.0</td>\n",
       "      <td>3.652</td>\n",
       "      <td>6.997000e+09</td>\n",
       "      <td>0.0</td>\n",
       "      <td>31000000.0</td>\n",
       "      <td>0.0</td>\n",
       "      <td>20.106</td>\n",
       "      <td>3.003000e+09</td>\n",
       "    </tr>\n",
       "    <tr>\n",
       "      <th>6/30/2010</th>\n",
       "      <td>1</td>\n",
       "      <td>A</td>\n",
       "      <td>ARQ</td>\n",
       "      <td>9/7/2010</td>\n",
       "      <td>7/31/2010</td>\n",
       "      <td>9/1/2020</td>\n",
       "      <td>-225000000.0</td>\n",
       "      <td>9.100000e+09</td>\n",
       "      <td>5.735000e+09</td>\n",
       "      <td>3.365000e+09</td>\n",
       "      <td>...</td>\n",
       "      <td>346370351.0</td>\n",
       "      <td>347000000.0</td>\n",
       "      <td>352000000.0</td>\n",
       "      <td>3.988</td>\n",
       "      <td>7.188000e+09</td>\n",
       "      <td>0.0</td>\n",
       "      <td>22000000.0</td>\n",
       "      <td>0.0</td>\n",
       "      <td>20.715</td>\n",
       "      <td>2.818000e+09</td>\n",
       "    </tr>\n",
       "    <tr>\n",
       "      <th>9/30/2010</th>\n",
       "      <td>2</td>\n",
       "      <td>A</td>\n",
       "      <td>ARQ</td>\n",
       "      <td>12/20/2010</td>\n",
       "      <td>10/31/2010</td>\n",
       "      <td>9/1/2020</td>\n",
       "      <td>-88000000.0</td>\n",
       "      <td>9.696000e+09</td>\n",
       "      <td>6.169000e+09</td>\n",
       "      <td>3.527000e+09</td>\n",
       "      <td>...</td>\n",
       "      <td>347604202.0</td>\n",
       "      <td>344000000.0</td>\n",
       "      <td>356000000.0</td>\n",
       "      <td>4.581</td>\n",
       "      <td>7.746000e+09</td>\n",
       "      <td>0.0</td>\n",
       "      <td>-49000000.0</td>\n",
       "      <td>0.0</td>\n",
       "      <td>22.517</td>\n",
       "      <td>3.086000e+09</td>\n",
       "    </tr>\n",
       "    <tr>\n",
       "      <th>12/31/2010</th>\n",
       "      <td>3</td>\n",
       "      <td>A</td>\n",
       "      <td>ARQ</td>\n",
       "      <td>3/9/2011</td>\n",
       "      <td>1/31/2011</td>\n",
       "      <td>9/1/2020</td>\n",
       "      <td>-63000000.0</td>\n",
       "      <td>8.044000e+09</td>\n",
       "      <td>4.598000e+09</td>\n",
       "      <td>3.446000e+09</td>\n",
       "      <td>...</td>\n",
       "      <td>345122160.0</td>\n",
       "      <td>347000000.0</td>\n",
       "      <td>355000000.0</td>\n",
       "      <td>4.378</td>\n",
       "      <td>6.129000e+09</td>\n",
       "      <td>0.0</td>\n",
       "      <td>5000000.0</td>\n",
       "      <td>0.0</td>\n",
       "      <td>17.663</td>\n",
       "      <td>3.192000e+09</td>\n",
       "    </tr>\n",
       "    <tr>\n",
       "      <th>3/31/2011</th>\n",
       "      <td>4</td>\n",
       "      <td>A</td>\n",
       "      <td>ARQ</td>\n",
       "      <td>6/7/2011</td>\n",
       "      <td>4/30/2011</td>\n",
       "      <td>9/1/2020</td>\n",
       "      <td>278000000.0</td>\n",
       "      <td>8.649000e+09</td>\n",
       "      <td>5.096000e+09</td>\n",
       "      <td>3.553000e+09</td>\n",
       "      <td>...</td>\n",
       "      <td>348045143.0</td>\n",
       "      <td>347000000.0</td>\n",
       "      <td>355000000.0</td>\n",
       "      <td>4.833</td>\n",
       "      <td>6.601000e+09</td>\n",
       "      <td>0.0</td>\n",
       "      <td>60000000.0</td>\n",
       "      <td>0.0</td>\n",
       "      <td>19.023</td>\n",
       "      <td>3.504000e+09</td>\n",
       "    </tr>\n",
       "  </tbody>\n",
       "</table>\n",
       "<p>5 rows × 103 columns</p>\n",
       "</div>"
      ],
      "text/plain": [
       "              Unnamed: 0 ticker dimension     datekey reportperiod  \\\n",
       "calendardate                                                         \n",
       "3/31/2010              0      A       ARQ    6/7/2010    4/30/2010   \n",
       "6/30/2010              1      A       ARQ    9/7/2010    7/31/2010   \n",
       "9/30/2010              2      A       ARQ  12/20/2010   10/31/2010   \n",
       "12/31/2010             3      A       ARQ    3/9/2011    1/31/2011   \n",
       "3/31/2011              4      A       ARQ    6/7/2011    4/30/2011   \n",
       "\n",
       "             lastupdated       accoci        assets       assetsc  \\\n",
       "calendardate                                                        \n",
       "3/31/2010       9/1/2020 -239000000.0  7.767000e+09  5.712000e+09   \n",
       "6/30/2010       9/1/2020 -225000000.0  9.100000e+09  5.735000e+09   \n",
       "9/30/2010       9/1/2020  -88000000.0  9.696000e+09  6.169000e+09   \n",
       "12/31/2010      9/1/2020  -63000000.0  8.044000e+09  4.598000e+09   \n",
       "3/31/2011       9/1/2020  278000000.0  8.649000e+09  5.096000e+09   \n",
       "\n",
       "                  assetsnc  ...    sharesbas     shareswa  shareswadil    sps  \\\n",
       "calendardate                ...                                                 \n",
       "3/31/2010     2.055000e+09  ...  348062907.0  348000000.0  354000000.0  3.652   \n",
       "6/30/2010     3.365000e+09  ...  346370351.0  347000000.0  352000000.0  3.988   \n",
       "9/30/2010     3.527000e+09  ...  347604202.0  344000000.0  356000000.0  4.581   \n",
       "12/31/2010    3.446000e+09  ...  345122160.0  347000000.0  355000000.0  4.378   \n",
       "3/31/2011     3.553000e+09  ...  348045143.0  347000000.0  355000000.0  4.833   \n",
       "\n",
       "                 tangibles  taxassets      taxexp  taxliabilities   tbvps  \\\n",
       "calendardate                                                                \n",
       "3/31/2010     6.997000e+09        0.0  31000000.0             0.0  20.106   \n",
       "6/30/2010     7.188000e+09        0.0  22000000.0             0.0  20.715   \n",
       "9/30/2010     7.746000e+09        0.0 -49000000.0             0.0  22.517   \n",
       "12/31/2010    6.129000e+09        0.0   5000000.0             0.0  17.663   \n",
       "3/31/2011     6.601000e+09        0.0  60000000.0             0.0  19.023   \n",
       "\n",
       "              workingcapital  \n",
       "calendardate                  \n",
       "3/31/2010       3.003000e+09  \n",
       "6/30/2010       2.818000e+09  \n",
       "9/30/2010       3.086000e+09  \n",
       "12/31/2010      3.192000e+09  \n",
       "3/31/2011       3.504000e+09  \n",
       "\n",
       "[5 rows x 103 columns]"
      ]
     },
     "execution_count": 105,
     "metadata": {},
     "output_type": "execute_result"
    }
   ],
   "source": [
    "data_df.dropna(axis=1, how=\"all\", inplace=True)\n",
    "data_df.head()"
   ]
  },
  {
   "cell_type": "code",
   "execution_count": 181,
   "metadata": {},
   "outputs": [
    {
     "data": {
      "text/plain": [
       "(209342, 110)"
      ]
     },
     "execution_count": 181,
     "metadata": {},
     "output_type": "execute_result"
    }
   ],
   "source": [
    "data_df.shape"
   ]
  },
  {
   "cell_type": "code",
   "execution_count": 93,
   "metadata": {},
   "outputs": [],
   "source": [
    "def preprocess_price_data():\n",
    "    \"\"\"\n",
    "    Currently, the sp500 and stock price datasets we downloaded do not have any data for\n",
    "    days when the market was closed (weekends and public holidays). We need to amend this so that\n",
    "    all rows are included. Doing this now saves a lot of effort when we actually create the\n",
    "    keystats dataset, which requires that we have stock data every day.\n",
    "    :return: SP500 and stock dataframes, with no missing rows.\n",
    "    \"\"\"\n",
    "    # Read in SP500 data and stock data, parsing the dates.\n",
    "    sp500_raw_data = pd.read_csv(\"sp500_index.csv\", index_col=\"Date\", parse_dates=True)\n",
    "    stock_raw_data = pd.read_csv(\"stock_prices.csv\", index_col=\"Date\", parse_dates=True)\n",
    "\n",
    "    # We will reindex to include the weekends.\n",
    "    start_date = str(stock_raw_data.index[0])\n",
    "    end_date = str(stock_raw_data.index[-1])\n",
    "    idx = pd.date_range(start_date, end_date)\n",
    "    sp500_raw_data = sp500_raw_data.reindex(idx)\n",
    "    stock_raw_data = stock_raw_data.reindex(idx)\n",
    "\n",
    "    # Now the weekends are NaN, so we fill forward these NaNs\n",
    "    # (i.e weekends take the value of Friday's adjusted close).\n",
    "    sp500_raw_data.ffill(inplace=True)\n",
    "    stock_raw_data.ffill(inplace=True)\n",
    "\n",
    "    return sp500_raw_data, stock_raw_data"
   ]
  },
  {
   "cell_type": "code",
   "execution_count": 94,
   "metadata": {},
   "outputs": [],
   "source": [
    "sp500_df, stock_df = preprocess_price_data()"
   ]
  },
  {
   "cell_type": "code",
   "execution_count": 251,
   "metadata": {},
   "outputs": [],
   "source": [
    "#adding stock price with keystat\n",
    "\n",
    "stock_price = []\n",
    "sp500_price = []\n",
    "stock_1m_price = []\n",
    "sp500_1m_price = []\n",
    "stock_p_change = []\n",
    "sp500_p_change = []\n",
    "for i in range(data_df.shape[0]):\n",
    "#for i in range(100):    \n",
    "    current_date = data_df.index[i]\n",
    "    one_month_date = datetime.strptime(data_df.index[i],\"%m/%d/%Y\") + timedelta(weeks = 4)\n",
    "    one_month_date = one_month_date.strftime(\"%m/%d/%Y\")\n",
    "    try:\n",
    "        stock_price_i = float(stock_df.loc[current_date, data_df.ticker[i]])\n",
    "        stock_1m_price_i = float(stock_df.loc[one_month_date, data_df.ticker[i]])\n",
    "        sp500_price_i = float(sp500_df.loc[current_date, \"Adj Close\"])\n",
    "        sp500_1m_price_i = float(sp500_df.loc[one_month_date, \"Adj Close\"])\n",
    "        stock_p_change_i = round(\n",
    "                ((stock_1m_price_i - stock_price_i) / stock_price_i * 100), 2\n",
    "        )\n",
    "        sp500_p_change_i = round(\n",
    "                ((sp500_1m_price_i - sp500_price_i) / sp500_price_i * 100), 2\n",
    "        )\n",
    "    except KeyError:\n",
    "        stock_price_i = \"N/A\"\n",
    "        stock_1m_price_i = \"N/A\"\n",
    "        sp500_price_i = \"N/A\"\n",
    "        sp500_1m_price_i = \"N/A\"\n",
    "        stock_p_change_i = \"N/A\"\n",
    "        sp500_p_change_i = \"N/A\"\n",
    "    stock_price.append(stock_price_i)\n",
    "    stock_1m_price.append(stock_1m_price_i)\n",
    "    sp500_price.append(sp500_price_i)\n",
    "    sp500_1m_price.append(sp500_1m_price_i)   \n",
    "    stock_p_change.append(stock_p_change_i)\n",
    "    sp500_p_change.append(sp500_p_change_i)\n",
    "    \n",
    "data_df[\"stock_price\"] = stock_price\n",
    "data_df[\"sp500_price\"] = sp500_price\n",
    "data_df[\"stock_p_change\"] = stock_p_change\n",
    "data_df[\"sp500_p_change\"] = sp500_p_change\n",
    "\n",
    "data_df.dropna(axis=0, subset=[\"stock_price\", \"stock_p_change\"], inplace=True)\n"
   ]
  },
  {
   "cell_type": "code",
   "execution_count": 262,
   "metadata": {},
   "outputs": [],
   "source": [
    "data_df.to_csv(\"ketstats_to_train.csv\", index = False)"
   ]
  },
  {
   "cell_type": "code",
   "execution_count": 273,
   "metadata": {},
   "outputs": [],
   "source": [
    "#backtest \n",
    "import numpy as np\n",
    "import pandas as pd\n",
    "from sklearn.model_selection import train_test_split\n",
    "from sklearn.ensemble import RandomForestClassifier\n",
    "from sklearn.metrics import precision_score\n",
    "from utils import status_calc"
   ]
  },
  {
   "cell_type": "code",
   "execution_count": 263,
   "metadata": {},
   "outputs": [],
   "source": [
    "backtest_df = pd.read_csv(\"keystats_new.csv\", index_col=\"calendardate\")"
   ]
  },
  {
   "cell_type": "code",
   "execution_count": 311,
   "metadata": {},
   "outputs": [],
   "source": [
    "backtest_df.dropna(axis=0, how=\"any\", inplace=True)"
   ]
  },
  {
   "cell_type": "code",
   "execution_count": 337,
   "metadata": {},
   "outputs": [
    {
     "name": "stdout",
     "output_type": "stream",
     "text": [
      "0\n"
     ]
    }
   ],
   "source": [
    "print(backtest_df['roa'].isnull().sum())"
   ]
  },
  {
   "cell_type": "code",
   "execution_count": 313,
   "metadata": {},
   "outputs": [
    {
     "data": {
      "text/plain": [
       "False"
      ]
     },
     "execution_count": 313,
     "metadata": {},
     "output_type": "execute_result"
    }
   ],
   "source": [
    "backtest_df.isnull().values.any()"
   ]
  },
  {
   "cell_type": "code",
   "execution_count": 332,
   "metadata": {},
   "outputs": [
    {
     "data": {
      "text/plain": [
       "'roa'"
      ]
     },
     "execution_count": 332,
     "metadata": {},
     "output_type": "execute_result"
    }
   ],
   "source": [
    "backtest_df.columns[25]"
   ]
  },
  {
   "cell_type": "code",
   "execution_count": 367,
   "metadata": {},
   "outputs": [
    {
     "data": {
      "text/plain": [
       "array([4.209000e+09, 3.879000e+09, 4.205000e+09, ..., 4.931150e+08,\n",
       "       7.269971e+06, 8.960200e+07])"
      ]
     },
     "execution_count": 367,
     "metadata": {},
     "output_type": "execute_result"
    }
   ],
   "source": [
    "features = backtest_df.columns[23]\n",
    "#features\n",
    "X = backtest_df[features].values\n",
    "X"
   ]
  },
  {
   "cell_type": "code",
   "execution_count": 368,
   "metadata": {},
   "outputs": [
    {
     "data": {
      "text/plain": [
       "129728428109501.66"
      ]
     },
     "execution_count": 368,
     "metadata": {},
     "output_type": "execute_result"
    }
   ],
   "source": [
    "array_sum = np.sum(X)\n",
    "array_sum\n",
    "#array_has_nan = np.isnan(array_sum)\n",
    "#array_has_nan"
   ]
  },
  {
   "cell_type": "code",
   "execution_count": 361,
   "metadata": {},
   "outputs": [
    {
     "data": {
      "text/plain": [
       "array([False, False, False, ..., False, False, False])"
      ]
     },
     "execution_count": 361,
     "metadata": {},
     "output_type": "execute_result"
    }
   ],
   "source": [
    "np.isnan(X)"
   ]
  },
  {
   "cell_type": "code",
   "execution_count": 362,
   "metadata": {},
   "outputs": [
    {
     "data": {
      "text/plain": [
       "[()]"
      ]
     },
     "execution_count": 362,
     "metadata": {},
     "output_type": "execute_result"
    }
   ],
   "source": [
    "list(map(tuple, np.where(np.isnan(X))))"
   ]
  },
  {
   "cell_type": "code",
   "execution_count": 371,
   "metadata": {},
   "outputs": [],
   "source": [
    "def backtest():\n",
    "    \"\"\"\n",
    "    A simple backtest, which splits the dataset into a train set and test set,\n",
    "    then fits a Random Forest classifier to the train set. We print the precision and accuracy\n",
    "    of the classifier on the test set, then run a backtest comparing this strategy's performance\n",
    "    to passive investment in the S&P500.\n",
    "    Please note that there is a methodological flaw in this backtest which will give deceptively\n",
    "    good results, so the results here should not encourage you to live trade.\n",
    "    \"\"\"\n",
    "    # Build the dataset, and drop any rows with missing values\n",
    "    #backtest_df = pd.read_csv(\"keystats_new.csv\", index_col=\"calendardate\")\n",
    "    #backtest_df.dropna(axis=0, how=\"any\", inplace=True)\n",
    "\n",
    "    features = backtest_df.columns[6:23]\n",
    "    X = backtest_df[features].values\n",
    "\n",
    "    # The labels are generated by applying the status_calc to the dataframe.\n",
    "    # '1' if a stock beats the S&P500 by more than x%, else '0'. Here x is the\n",
    "    # outperformance parameter, which is set to 10 by default but can be redefined.\n",
    "    y = list(\n",
    "        status_calc(\n",
    "            backtest_df[\"stock_p_change\"], backtest_df[\"sp500_p_change\"], outperformance=10\n",
    "        )\n",
    "    )\n",
    "\n",
    "    # z is required for us to track returns\n",
    "    z = np.array(backtest_df[[\"stock_p_change\", \"sp500_p_change\"]])\n",
    "\n",
    "    # Generate the train set and test set by randomly splitting the dataset\n",
    "    X_train, X_test, y_train, y_test, z_train, z_test = train_test_split(\n",
    "        X, y, z, test_size=0.2\n",
    "    )\n",
    "\n",
    "    # Instantiate a RandomForestClassifier with 100 trees, then fit it to the training data\n",
    "    clf = RandomForestClassifier(n_estimators=100, random_state=0)\n",
    "    clf.fit(X_train, y_train)\n",
    "\n",
    "    # Generate the predictions, then print test set accuracy and precision\n",
    "    y_pred = clf.predict(X_test)\n",
    "    print(\"Classifier performance\\n\", \"=\" * 20)\n",
    "    print(f\"Accuracy score: {clf.score(X_test, y_test): .2f}\")\n",
    "    print(f\"Precision score: {precision_score(y_test, y_pred): .2f}\")\n",
    "\n",
    "    # Because y_pred is an array of 1s and 0s, the number of positive predictions\n",
    "    # is equal to the sum of the array\n",
    "    num_positive_predictions = sum(y_pred)\n",
    "    if num_positive_predictions < 0:\n",
    "        print(\"No stocks predicted!\")\n",
    "\n",
    "    # Recall that z_test stores the change in stock price in column 0, and the\n",
    "    # change in S&P500 price in column 1.\n",
    "    # Whenever a stock is predicted to outperform (y_pred = 1), we 'buy' that stock\n",
    "    # and simultaneously `buy` the index for comparison.\n",
    "    stock_returns = 1 + z_test[y_pred, 0] / 100\n",
    "    market_returns = 1 + z_test[y_pred, 1] / 100\n",
    "\n",
    "    # Calculate the average growth for each stock we predicted 'buy'\n",
    "    # and the corresponding index growth\n",
    "    avg_predicted_stock_growth = sum(stock_returns) / num_positive_predictions\n",
    "    index_growth = sum(market_returns) / num_positive_predictions\n",
    "    percentage_stock_returns = 100 * (avg_predicted_stock_growth - 1)\n",
    "    percentage_market_returns = 100 * (index_growth - 1)\n",
    "    total_outperformance = percentage_stock_returns - percentage_market_returns\n",
    "\n",
    "    print(\"\\n Stock prediction performance report \\n\", \"=\" * 40)\n",
    "    print(f\"Total Trades:\", num_positive_predictions)\n",
    "    print(f\"Average return for stock predictions: {percentage_stock_returns: .1f} %\")\n",
    "    print(\n",
    "        f\"Average market return in the same period: {percentage_market_returns: .1f}% \"\n",
    "    )\n",
    "    print(\n",
    "        f\"Compared to the index, our strategy earns {total_outperformance: .1f} percentage points more\"\n",
    "    )\n"
   ]
  },
  {
   "cell_type": "code",
   "execution_count": 372,
   "metadata": {},
   "outputs": [
    {
     "name": "stdout",
     "output_type": "stream",
     "text": [
      "Classifier performance\n",
      " ====================\n",
      "Accuracy score:  0.87\n",
      "Precision score:  0.21\n",
      "\n",
      " Stock prediction performance report \n",
      " ========================================\n",
      "Total Trades: 138\n",
      "Average return for stock predictions:  3.9 %\n",
      "Average market return in the same period:  3.6% \n",
      "Compared to the index, our strategy earns  0.4 percentage points more\n"
     ]
    }
   ],
   "source": [
    "backtest()"
   ]
  },
  {
   "cell_type": "code",
   "execution_count": null,
   "metadata": {},
   "outputs": [],
   "source": []
  }
 ],
 "metadata": {
  "kernelspec": {
   "display_name": "Python 3",
   "language": "python",
   "name": "python3"
  },
  "language_info": {
   "codemirror_mode": {
    "name": "ipython",
    "version": 3
   },
   "file_extension": ".py",
   "mimetype": "text/x-python",
   "name": "python",
   "nbconvert_exporter": "python",
   "pygments_lexer": "ipython3",
   "version": "3.8.5"
  }
 },
 "nbformat": 4,
 "nbformat_minor": 4
}
