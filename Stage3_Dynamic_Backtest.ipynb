{
  "cells": [
    {
      "cell_type": "code",
      "metadata": {},
      "source": [
        "import numpy as np\n",
        "import matplotlib.pyplot as plt\n",
        "import pandas as pd\n",
        "from pandas_datareader import data as pdr\n",
        "from datetime import datetime, timedelta\n",
        "from scipy.optimize import minimize "
      ],
      "outputs": [],
      "execution_count": null
    },
    {
      "cell_type": "code",
      "metadata": {},
      "source": [
        "START_DATE = \"2019-01-01\"\n",
        "END_DATE = datetime.today().strftime(\"%Y-%m-%d\")\n",
        "#END_DATE = \"2020-11-10\""
      ],
      "outputs": [],
      "execution_count": null
    },
    {
      "cell_type": "code",
      "metadata": {},
      "source": [
        "def stock_price():\n",
        "    #Creates the dataset containing all stock prices and S&P 500 price \"SPY\"\n",
        "    ticker_list = pd.read_csv(\"invest_list.csv\")[\"0\"].to_list() + ['SPY']\n",
        "    \n",
        "    # Get all Adjusted Close prices for all the tickers in our list,\n",
        "    # between START_DATE and END_DATE\n",
        "    all_data = pdr.get_data_yahoo(ticker_list, start=START_DATE, end=END_DATE)\n",
        "    stock_raw_data = all_data[\"Adj Close\"]\n",
        "    \n",
        "    #Remove rows with null price data\n",
        "    stock_raw_data.dropna(how=\"any\", axis=0, inplace=True)\n",
        "    \n",
        "    # Adding weekday number \n",
        "    weekday = []\n",
        "    for day in stock_raw_data.index:\n",
        "        weekday.append(day.weekday())\n",
        "    stock_raw_data[\"weekday\"] = weekday\n",
        "    \n",
        "    return stock_raw_data"
      ],
      "outputs": [],
      "execution_count": null
    },
    {
      "cell_type": "code",
      "metadata": {},
      "source": [
        "stock_raw_data = stock_price()"
      ],
      "outputs": [],
      "execution_count": null
    },
    {
      "cell_type": "code",
      "metadata": {},
      "source": [
        "stock_raw_data.tail()\n",
        "#stock_new"
      ],
      "outputs": [],
      "execution_count": null
    },
    {
      "cell_type": "code",
      "metadata": {},
      "source": [
        "#Weight Optimization\n",
        "def get_ret_vol_sr(weights):\n",
        "    weights = np.array(weights)\n",
        "    ret = np.sum(portfolio.mean()*weights)\n",
        "    vol = np.sqrt(np.dot(weights.T,np.dot(portfolio.cov(),weights)))\n",
        "    sr = ret/vol\n",
        "    return np.array([ret,vol,sr])\n",
        "#minimize negative sharpe ratio\n",
        "def neg_sharpe(weights):\n",
        "    return get_ret_vol_sr(weights)[2] * -1\n",
        "# add constriant:check allocation sums to 1\n",
        "def check_sum(weights):\n",
        "    return np.sum(weights) - 1"
      ],
      "outputs": [],
      "execution_count": null
    },
    {
      "cell_type": "code",
      "metadata": {},
      "source": [
        "def Optimization():\n",
        "# create constraint variable: an equition type of constrant. fun: pass in the function: check_sum\n",
        "    cons = ({'type':'eq','fun':check_sum})\n",
        "# create weight boundaries\n",
        "    bounds = ((0,1),(0,1),(0,1),(0,1),(0,1))\n",
        "# initial guess to start with\n",
        "    init_guess = [0.2, 0.2, 0.2, 0.2, 0.2]\n",
        "    opt_results = minimize(neg_sharpe, init_guess, method='SLSQP', bounds=bounds, constraints=cons)\n",
        "    return opt_results"
      ],
      "outputs": [],
      "execution_count": null
    },
    {
      "cell_type": "code",
      "metadata": {},
      "source": [
        "def get_holding(total, weights):\n",
        "    s1_w, s2_w, s3_w, s4_w, s5_w = weights\n",
        "            \n",
        "    s1_h = (total * s1_w) / BE_Price\n",
        "    s2_h = (total * s2_w) / TWLO_Price\n",
        "    s3_h = (total * s3_w) / ZM_Price\n",
        "    s4_h = (total * s4_w) / SLP_Price\n",
        "    s5_h = (total * s5_w) / DKNG_Price\n",
        "    \n",
        "    return s1_h.round(0), s2_h.round(0), s3_h.round(0), s4_h.round(0), s5_h.round(0)"
      ],
      "outputs": [],
      "execution_count": null
    },
    {
      "cell_type": "code",
      "metadata": {},
      "source": [
        "#Main\n",
        "stock_new = stock_raw_data.copy()\n",
        "\n",
        "initial_value = 10000\n",
        "\n",
        "BE_Weight = []\n",
        "TWLO_Weight = []\n",
        "ZM_Weight = []\n",
        "SLP_Weight = []\n",
        "DKNG_Weight = []\n",
        "\n",
        "BE_Holding = []\n",
        "TWLO_Holding = []\n",
        "ZM_Holding = []\n",
        "SLP_Holding = []\n",
        "DKNG_Holding = []\n",
        "\n",
        "Portfolio = []\n",
        "SPY_Bench = []\n",
        "SPY_Holding = initial_value/stock_new[\"SPY\"][0]\n",
        "SPY_Holding = SPY_Holding.round(0)\n",
        "\n",
        "for i in range(stock_new.shape[0]):\n",
        "#for i in range(20):\n",
        "    \n",
        "    BE_Price = stock_new[\"BE\"][i]\n",
        "    TWLO_Price = stock_new[\"TWLO\"][i]\n",
        "    ZM_Price = stock_new[\"ZM\"][i]\n",
        "    SLP_Price = stock_new[\"SLP\"][i]\n",
        "    DKNG_Price = stock_new[\"DKNG\"][i]\n",
        "    SPY_Price = stock_new[\"SPY\"][i]\n",
        "    \n",
        "    if i == 0:\n",
        "        #Initial Value\n",
        "        total = initial_value\n",
        "    else:\n",
        "        #Calculate Protofilo Value\n",
        "        total = BE_Price*s1_h + TWLO_Price*s2_h + ZM_Price*s3_h + SLP_Price*s4_h + DKNG_Price*s5_h\n",
        "    Portfolio.append(total)\n",
        "    \n",
        "    SPY_Bench.append(SPY_Holding*SPY_Price)\n",
        "    \n",
        "    #Exeaute Strategy\n",
        "    # weekday[i] == 1, 1 is for Tuesday\n",
        "    #if stock_new.weekday[i] == 1 or stock_new.weekday[i] == 3 or i == 0:\n",
        "    if stock_new.weekday[i] == 1 or i == 0:\n",
        "        reg_return = stock_new.iloc[i-20:i,:5]\n",
        "        portfolio = np.log(reg_return/reg_return.shift(1))\n",
        "        opt_results = Optimization()\n",
        "        s1_h, s2_h, s3_h, s4_h, s5_h = get_holding(total, opt_results.x)\n",
        "    \n",
        "    BE_Weight.append(opt_results.x[0].round(2))\n",
        "    TWLO_Weight.append(opt_results.x[1].round(2))\n",
        "    ZM_Weight.append(opt_results.x[2].round(2))\n",
        "    SLP_Weight.append(opt_results.x[3].round(2))\n",
        "    DKNG_Weight.append(opt_results.x[4].round(2))\n",
        "\n",
        "    BE_Holding.append(s1_h)\n",
        "    TWLO_Holding.append(s2_h)\n",
        "    ZM_Holding.append(s3_h)\n",
        "    SLP_Holding.append(s4_h)\n",
        "    DKNG_Holding.append(s5_h)\n",
        "\n",
        "stock_new[\"BE_Weight\"] = BE_Weight\n",
        "stock_new[\"TWLO_Weight\"] = TWLO_Weight\n",
        "stock_new[\"ZM_Weight\"] = ZM_Weight\n",
        "stock_new[\"SLP_Weight\"] = SLP_Weight\n",
        "stock_new[\"DKNG_Weight\"] = DKNG_Weight\n",
        "\n",
        "stock_new[\"BE_Holding\"] = BE_Holding\n",
        "stock_new[\"TWLO_Holding\"] = TWLO_Holding\n",
        "stock_new[\"ZM_Holding\"] = ZM_Holding\n",
        "stock_new[\"SLP_Holding\"] = SLP_Holding\n",
        "stock_new[\"DKNG_Holding\"] = DKNG_Holding\n",
        "\n",
        "stock_new[\"Portfolio\"] = Portfolio\n",
        "stock_new[\"SPY_Bench\"] = SPY_Bench\n"
      ],
      "outputs": [],
      "execution_count": null
    },
    {
      "cell_type": "code",
      "metadata": {},
      "source": [
        "stock_new.tail(20)\n",
        "#stock_new.head(40)"
      ],
      "outputs": [],
      "execution_count": null
    },
    {
      "cell_type": "code",
      "metadata": {},
      "source": [
        "%matplotlib inline\n",
        "#stock_new.plot()\n",
        "stock_new[[\"BE_Weight\",\"TWLO_Weight\", \"ZM_Weight\", \"SLP_Weight\", \"DKNG_Weight\"]].plot(figsize=(20, 6))\n",
        "stock_new[[\"BE_Holding\",\"TWLO_Holding\", \"ZM_Holding\", \"SLP_Holding\", \"DKNG_Holding\"]].plot(figsize=(20, 6))\n",
        "stock_new[[\"Portfolio\", \"SPY_Bench\"]].plot(figsize=(20, 6))\n",
        "stock_new[[\"BE\",\"TWLO\", \"ZM\", \"SLP\", \"DKNG\"]].plot(figsize=(20, 6))\n",
        "np.log(stock_new[[\"BE\",\"TWLO\", \"ZM\", \"SLP\", \"DKNG\"]]).plot(figsize=(20, 6))\n",
        "\n",
        "# Viewing The Trend\n",
        "#---------------------------------------------------------------------------------------------------------------------------------------------------\n",
        "#Configuring the figure size to 15 x 7\n",
        "fig, ax1 = plt.subplots(figsize=(15,7))\n",
        "#Creating space to plot in the in the Sub Grid to accomadate the other plot\n",
        "ax1 = plt.subplot(2,1,1)\n",
        "ax1.grid(True) #Enabling Grid in the plot\n",
        "plt.xlabel('Years') #Naming the X-Axis\n",
        "plt.ylabel('Price ($)') #Naming the Y-Axis\n",
        "plt.title('Alphabet (GOOG) Stock Price') #Naming the Title\n",
        "ax1.plot(selected_data.date.values,selected_data.adj_close.values,'#10e8b2',linewidth=2) #Plotting adj_close against dates and giving the desired color\n",
        "ax2 = plt.subplot(2,1,2)\n",
        "ax2.bar(selected_data.date.values,selected_data.volume.values,color='#3e83c9')\n",
        "ax2.grid(True)\n",
        "plt.xlabel('Years') #Naming the X-Axis for plot2\n",
        "plt.ylabel('Volume') #Naming the Y-Axis for plot2\n",
        "plt.show()\n",
        "#---------------------------------------------------------------------------------------------------------------------------------------------------\n",
        "\n",
        "#---------------------------------------------------------------------------------------------------------------------------------------------------\n",
        "##Variables to get the Raw Data from the API and Store in the File\n",
        "companies = {\"Alphabet\":\"GOOG\",\"Microsoft\":\"MSFT\",\"Apple\":\"AAPL\"} #Dictionary of companies created for better understanding of code\n",
        "store_data = get_raw_data(companies) #Calling the function and storing the value(list) \n",
        "with open('Raw_data.csv','w',newline='')as rawfile: #Creating a CSV File \n",
        "            w = csv.writer(rawfile)\n",
        "            for rows in store_data: #Iterating over the retrieved List of CSV data\n",
        "                w.writerow(rows) #Writing each row in the Raw_data.csv file created\n",
        "            rawfile.close()\n",
        "print('Raw File Saved')\n",
        "#---------------------------------------------------------------------------------------------------------------------------------------------------"
      ],
      "outputs": [],
      "execution_count": null
    },
    {
      "cell_type": "code",
      "metadata": {},
      "source": [
        "#Calculate holding based on real Portfolio\n",
        "current_total = 14400\n",
        "get_holding(current_total, opt_results.x)"
      ],
      "outputs": [],
      "execution_count": null
    },
    {
      "cell_type": "code",
      "metadata": {},
      "source": [
        "#Caculate hoding difference\n",
        "208-199"
      ],
      "outputs": [],
      "execution_count": null
    },
    {
      "cell_type": "code",
      "metadata": {},
      "source": [
        "stock_new.to_csv(\"Portfolio_Backtest_Result.csv\")"
      ],
      "outputs": [],
      "execution_count": null
    },
    {
      "cell_type": "code",
      "metadata": {},
      "source": [
        "#Portflio performance\n",
        "max_cash=stock_new[\"Portfolio\"].max()\n",
        "min_cash=stock_new[\"Portfolio\"].min()\n",
        "final_cash=stock_new[\"Portfolio\"].tail(1)"
      ],
      "outputs": [],
      "execution_count": null
    },
    {
      "cell_type": "code",
      "metadata": {},
      "source": [
        "print(\"Initial Cash: $\",10000)\n",
        "print(\"Max Cash: $\", max_cash)\n",
        "print(\"Min Casg: $\",min_cash)\n",
        "print(\"Final Cash: $\",final_cash)"
      ],
      "outputs": [],
      "execution_count": null
    },
    {
      "cell_type": "code",
      "metadata": {},
      "source": [
        "#Portflio evaluation\n",
        "#https://www.investopedia.com/articles/07/sharpe_ratio.asp#:~:text=Using%20the%20Sharpe%20Ratio,A%20is%20a%20better%20performer.\n",
        "#https://www.investopedia.com/terms/m/maximum-drawdown-mdd.asp#:~:text=A%20maximum%20drawdown%20(MDD)%20is,over%20a%20specified%20time%20period.\n",
        "daily_return = np.log(stock_new[\"Portfolio\"]/stock_new[\"Portfolio\"].shift(1))\n",
        "#daily_return = stock_new[\"Portfolio\"]-stock_new[\"Portfolio\"].shift(1)\n",
        "ret = daily_return.mean()\n",
        "vol = daily_return.std()\n",
        "sr = ret/vol\n",
        "\n",
        "def MaxDrawdown(return_list):\n",
        "    a = np.maximum.accumulate(return_list)\n",
        "    l = np.argmax((a - return_list) /a)\n",
        "    k = np.argmax(return_list[:l])\n",
        "    return (return_list[k] - return_list[l])/(return_list[k])\n",
        "\n",
        "return_list = list(stock_new[\"Portfolio\"])\n",
        "mdd = MaxDrawdown(return_list)\n",
        "drawdown = round(mdd*100)\n"
      ],
      "outputs": [],
      "execution_count": null
    },
    {
      "cell_type": "code",
      "metadata": {},
      "source": [
        "# portflio return,portflio volatility,portflio sharpe ratio\n",
        "print(\"Expected Average Return :\",round(ret*100,2),\"%\")\n",
        "print(\"Expected Volatility:\", round(vol*100,2),\"%\")\n",
        "print(\"Sharpe Ratio:\",round(sr*100,2),\"%\")\n",
        "print(\"Max Drawdown:\",drawdown,\"%\")"
      ],
      "outputs": [],
      "execution_count": null
    },
    {
      "cell_type": "code",
      "metadata": {},
      "source": [
        "live_price = pd.read_csv(\"live trading.csv\")[\"Price\"].dropna()\n",
        "live_daily_return = np.log(live_price/live_price.shift(1))\n",
        "live_ret = live_daily_return.mean()\n",
        "live_vol = live_daily_return.std()\n",
        "live_sr = live_ret/vol\n",
        "\n",
        "return_live = list(live_price)\n",
        "mdd_live = MaxDrawdown(return_live)\n",
        "drawdown_live = round(mdd_live*100)"
      ],
      "outputs": [],
      "execution_count": null
    },
    {
      "cell_type": "code",
      "metadata": {},
      "source": [
        "print(\"Expected Average Return :\",round(live_ret*100,2),\"%\")\n",
        "print(\"Expected Volatility:\", round(live_vol*100,2),\"%\")\n",
        "print(\"Sharpe Ratio:\",round(live_sr*100,2),\"%\")\n",
        "print(\"Max Drawdown:\",drawdown_live,\"%\")"
      ],
      "outputs": [],
      "execution_count": null
    },
    {
      "cell_type": "code",
      "metadata": {},
      "source": [],
      "outputs": [],
      "execution_count": null
    }
  ],
  "metadata": {
    "anaconda-cloud": {},
    "kernelspec": {
      "display_name": "Python 3",
      "language": "python",
      "name": "python3"
    },
    "language_info": {
      "codemirror_mode": {
        "name": "ipython",
        "version": 3
      },
      "file_extension": ".py",
      "mimetype": "text/x-python",
      "name": "python",
      "nbconvert_exporter": "python",
      "pygments_lexer": "ipython3",
      "version": "3.6.1"
    }
  },
  "nbformat": 4,
  "nbformat_minor": 4
}
